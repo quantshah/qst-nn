{
 "cells": [
  {
   "cell_type": "markdown",
   "source": [
    "# Classifier performance (Fig 7)"
   ],
   "metadata": {}
  },
  {
   "cell_type": "code",
   "execution_count": 1,
   "source": [
    "import h5py\n",
    "\n",
    "\n",
    "from qutip.wigner import qfunc\n",
    "\n",
    "import numpy as np\n",
    "\n",
    "from sklearn.metrics import accuracy_score\n",
    "\n",
    "\n",
    "import tensorflow as tf\n",
    "from tensorflow.keras.preprocessing.image import ImageDataGenerator\n",
    "\n",
    "\n",
    "from qst_nn.models.classifier import Classifier\n",
    "from qst_nn.data.preprocess import remove_data, remap_labels, normalize\n",
    "from qst_nn.training.train_classifier import loss, optimizer\n",
    "from qst_nn.utils import plot_confusion_matrix, plot_three_husimi, cat\n",
    "\n",
    "\n",
    "\n",
    "import os\n",
    "import matplotlib.pyplot as plt\n",
    "\n",
    "%load_ext autoreload\n",
    "%autoreload 2\n",
    "\n",
    "os.environ[\"CUDA_VISIBLE_DEVICES\"] = \"\"\n",
    "tf.keras.backend.set_floatx('float32')"
   ],
   "outputs": [],
   "metadata": {}
  },
  {
   "cell_type": "markdown",
   "source": [
    "# Set the figure options and size"
   ],
   "metadata": {}
  },
  {
   "cell_type": "code",
   "execution_count": 2,
   "source": [
    "# https://scipy-cookbook.readthedocs.io/items/Matplotlib_LaTeX_Examples.html\n",
    "fig_width_pt = 246.0  # Get this from LaTeX using \\showthe\\columnwidth\n",
    "inches_per_pt = 1.0/72.27               # Convert pt to inch\n",
    "golden_mean = (np.sqrt(5)-1.0)/2.0         # Aesthetic ratio\n",
    "fig_width = fig_width_pt*inches_per_pt  # width in inches\n",
    "fig_height = fig_width*golden_mean      # height in inches\n",
    "fig_size =  [fig_width,fig_height]\n",
    "params = {# 'backend': 'ps',\n",
    "          'axes.labelsize': 8,\n",
    "          'font.size': 8,\n",
    "          'xtick.labelsize': 8,\n",
    "          'ytick.labelsize': 8,\n",
    "          'axes.labelpad': 1,\n",
    "          'text.usetex': False,\n",
    "          'figure.figsize': fig_size,}\n",
    "plt.rcParams.update(params)"
   ],
   "outputs": [],
   "metadata": {}
  },
  {
   "cell_type": "markdown",
   "source": [
    "# Load the data from the test data file"
   ],
   "metadata": {}
  },
  {
   "cell_type": "code",
   "execution_count": 3,
   "source": [
    "xgrid = 32\n",
    "ygrid = 32\n",
    "\n",
    "xvec = np.linspace(-5, 5, xgrid)\n",
    "yvec = np.linspace(-5, 5, ygrid)\n",
    "\n",
    "datapath = \"data/\"\n",
    "\n",
    "with h5py.File(datapath+\"test.h5\", 'r') as f:\n",
    "    xdata_test = f[\"x\"][()]\n",
    "    ydata_test = f[\"y\"][()]\n",
    "    \n",
    "# Data shapes\n",
    "print(\"Test x-data shape\", xdata_test.shape)\n",
    "print(\"Test y-data shape\", ydata_test.shape)\n",
    "\n",
    "xdata_test, ydata_test = remove_data(xdata_test, ydata_test, 3)\n",
    "ydata_test = remap_labels(ydata_test)\n",
    "\n",
    "\n",
    "# Any other preprocessing or removal of the data should be done before this step\n",
    "x_test, y_test = xdata_test.reshape((-1, xgrid, ygrid, 1)), ydata_test.reshape((-1,1))"
   ],
   "outputs": [
    {
     "output_type": "stream",
     "name": "stdout",
     "text": [
      "Test x-data shape (10000, 1024)\n",
      "Test y-data shape (10000, 1)\n"
     ]
    }
   ],
   "metadata": {}
  },
  {
   "cell_type": "markdown",
   "source": [
    "# Construct the data generator and the classifier network from saved model"
   ],
   "metadata": {}
  },
  {
   "cell_type": "code",
   "execution_count": 4,
   "source": [
    "test_data_generator = ImageDataGenerator(\n",
    "            featurewise_center=False,\n",
    "            featurewise_std_normalization=False,\n",
    "            samplewise_std_normalization=False,\n",
    "            samplewise_center=False,\n",
    "            rotation_range=0,\n",
    "            width_shift_range=0,\n",
    "            height_shift_range=0,\n",
    "            horizontal_flip=False,\n",
    "            vertical_flip=False,\n",
    "            shear_range=0,\n",
    "            zoom_range=0,\n",
    "            preprocessing_function=normalize\n",
    ")\n",
    "\n",
    "classifier = Classifier()\n",
    "classifier.compile(optimizer=optimizer,\n",
    "                   loss=loss,\n",
    "                   metrics=['accuracy'])\n",
    "\n",
    "\n",
    "# Load the model's weights\n",
    "checkpoint_path = \"classifier/\"\n",
    "checkpoint_dir = os.path.dirname(checkpoint_path)\n",
    "classifier.load_weights(checkpoint_path)"
   ],
   "outputs": [
    {
     "output_type": "stream",
     "name": "stderr",
     "text": [
      "2021-09-24 14:54:50.214579: I tensorflow/core/platform/cpu_feature_guard.cc:142] This TensorFlow binary is optimized with oneAPI Deep Neural Network Library (oneDNN) to use the following CPU instructions in performance-critical operations:  AVX2 FMA\n",
      "To enable them in other operations, rebuild TensorFlow with the appropriate compiler flags.\n"
     ]
    },
    {
     "output_type": "execute_result",
     "data": {
      "text/plain": [
       "<tensorflow.python.training.tracking.util.CheckpointLoadStatus at 0x189026820>"
      ]
     },
     "metadata": {},
     "execution_count": 4
    }
   ],
   "metadata": {}
  },
  {
   "cell_type": "code",
   "execution_count": 5,
   "source": [
    "classifier.summary()"
   ],
   "outputs": [
    {
     "output_type": "stream",
     "name": "stdout",
     "text": [
      "Model: \"model\"\n",
      "_________________________________________________________________\n",
      "Layer (type)                 Output Shape              Param #   \n",
      "=================================================================\n",
      "input_image (InputLayer)     [(None, 32, 32, 1)]       0         \n",
      "_________________________________________________________________\n",
      "conv2d (Conv2D)              (None, 30, 30, 32)        288       \n",
      "_________________________________________________________________\n",
      "leaky_re_lu (LeakyReLU)      (None, 30, 30, 32)        0         \n",
      "_________________________________________________________________\n",
      "conv2d_1 (Conv2D)            (None, 28, 28, 32)        9216      \n",
      "_________________________________________________________________\n",
      "leaky_re_lu_1 (LeakyReLU)    (None, 28, 28, 32)        0         \n",
      "_________________________________________________________________\n",
      "gaussian_noise (GaussianNois (None, 28, 28, 32)        0         \n",
      "_________________________________________________________________\n",
      "dropout (Dropout)            (None, 28, 28, 32)        0         \n",
      "_________________________________________________________________\n",
      "conv2d_2 (Conv2D)            (None, 13, 13, 32)        9216      \n",
      "_________________________________________________________________\n",
      "leaky_re_lu_2 (LeakyReLU)    (None, 13, 13, 32)        0         \n",
      "_________________________________________________________________\n",
      "conv2d_3 (Conv2D)            (None, 11, 11, 64)        18432     \n",
      "_________________________________________________________________\n",
      "leaky_re_lu_3 (LeakyReLU)    (None, 11, 11, 64)        0         \n",
      "_________________________________________________________________\n",
      "gaussian_noise_1 (GaussianNo (None, 11, 11, 64)        0         \n",
      "_________________________________________________________________\n",
      "dropout_1 (Dropout)          (None, 11, 11, 64)        0         \n",
      "_________________________________________________________________\n",
      "conv2d_4 (Conv2D)            (None, 9, 9, 64)          36864     \n",
      "_________________________________________________________________\n",
      "leaky_re_lu_4 (LeakyReLU)    (None, 9, 9, 64)          0         \n",
      "_________________________________________________________________\n",
      "conv2d_5 (Conv2D)            (None, 4, 4, 64)          36864     \n",
      "_________________________________________________________________\n",
      "leaky_re_lu_5 (LeakyReLU)    (None, 4, 4, 64)          0         \n",
      "_________________________________________________________________\n",
      "dropout_2 (Dropout)          (None, 4, 4, 64)          0         \n",
      "_________________________________________________________________\n",
      "flatten (Flatten)            (None, 1024)              0         \n",
      "_________________________________________________________________\n",
      "dense (Dense)                (None, 512)               524800    \n",
      "_________________________________________________________________\n",
      "leaky_re_lu_6 (LeakyReLU)    (None, 512)               0         \n",
      "_________________________________________________________________\n",
      "dropout_3 (Dropout)          (None, 512)               0         \n",
      "_________________________________________________________________\n",
      "dense_1 (Dense)              (None, 256)               131328    \n",
      "_________________________________________________________________\n",
      "leaky_re_lu_7 (LeakyReLU)    (None, 256)               0         \n",
      "_________________________________________________________________\n",
      "dense_2 (Dense)              (None, 7)                 1799      \n",
      "=================================================================\n",
      "Total params: 768,807\n",
      "Trainable params: 768,807\n",
      "Non-trainable params: 0\n",
      "_________________________________________________________________\n"
     ]
    }
   ],
   "metadata": {}
  },
  {
   "cell_type": "markdown",
   "source": [
    "# Make predictions on the test data and evaluate the model"
   ],
   "metadata": {}
  },
  {
   "cell_type": "code",
   "execution_count": 6,
   "source": [
    "batch_size = 128\n",
    "\n",
    "test_data_gen = test_data_generator.flow(x_test, y_test, batch_size=batch_size, shuffle=False)\n",
    "y_pred = classifier.predict(test_data_gen)\n",
    "y_pred = np.argmax(y_pred, 1)\n",
    "print(\"Accuracy\", accuracy_score(y_pred, y_test))"
   ],
   "outputs": [
    {
     "output_type": "stream",
     "name": "stderr",
     "text": [
      "2021-09-24 14:54:50.626426: I tensorflow/compiler/mlir/mlir_graph_optimization_pass.cc:185] None of the MLIR Optimization Passes are enabled (registered 2)\n"
     ]
    },
    {
     "output_type": "stream",
     "name": "stdout",
     "text": [
      "Accuracy 0.9860438292964244\n"
     ]
    }
   ],
   "metadata": {}
  },
  {
   "cell_type": "markdown",
   "source": [
    "# Confusion matrix"
   ],
   "metadata": {}
  },
  {
   "cell_type": "code",
   "execution_count": 10,
   "source": [
    "state_labels = ['fock', 'coherent', 'thermal', 'cat', 'binomial', 'num', 'gkp']\n",
    "\n",
    "fig, ax = plt.subplots(1, 1, figsize=(fig_width,\n",
    "                                      fig_width),\n",
    "                       sharex=False, sharey=False)\n",
    "\n",
    "plot_confusion_matrix(y_test, y_pred, classes = state_labels, normalize=True,\n",
    "                     fig=fig, ax=ax,\n",
    "                      title=\"(a)                                                                    \")\n",
    "plt.tight_layout()\n",
    "plt.show()\n",
    "\n",
    "# # plt.savefig(\"fig-7a-confusion.pdf\", bbox_inches=\"tight\", pad_inches=0.)"
   ],
   "outputs": [
    {
     "output_type": "stream",
     "name": "stdout",
     "text": [
      "Normalized confusion matrix\n"
     ]
    },
    {
     "output_type": "display_data",
     "data": {
      "image/png": "[encoded data removed]",
      "text/plain": [
       "<Figure size 245.081x245.081 with 2 Axes>"
      ]
     },
     "metadata": {
      "needs_background": "light"
     }
    }
   ],
   "metadata": {}
  },
  {
   "cell_type": "markdown",
   "source": [
    "# Misclassifications of a cat state"
   ],
   "metadata": {}
  },
  {
   "cell_type": "code",
   "execution_count": 11,
   "source": [
    "cat1 = qfunc(cat(32, 1, 1, mu=1), xvec, yvec, g=2)\n",
    "cat2 = qfunc(cat(32, 2, 3, mu=0), xvec, yvec, g=2)\n",
    "cat3 = qfunc(cat(32, 1, 3, mu=0), xvec, yvec, g=2)\n",
    "\n",
    "data = np.array([normalize(d).reshape((xgrid, xgrid, 1)) for d in [cat1, cat2, cat3]])\n",
    "predictions = classifier.predict(data)\n",
    "\n",
    "reverse_mapping_correct = {\n",
    "          0:\"fock\",\n",
    "         1:\"coherent\",\n",
    "         2:\"thermal\",\n",
    "         3:\"cat\",\n",
    "         4:\"binomial\",\n",
    "         5:\"num\",\n",
    "         6:\"gkp\"\n",
    "          }\n",
    "\n",
    "titles = [reverse_mapping_correct[l] for l in np.argmax(tf.nn.softmax(predictions), 1)]\n",
    "\n",
    "fig, ax = plot_three_husimi(cat1, cat2, cat3, title=\"(b)                                                         \", cmap=\"hot\")\n",
    "\n",
    "ax[0].text(0.5, 0.89, titles[0], fontweight=\"bold\", ha='center', \n",
    "          transform=ax[0].transAxes, fontsize=8, color=\"white\",)\n",
    "\n",
    "ax[1].text(0.5, 0.89, titles[1], fontweight=\"bold\", ha='center', \n",
    "          transform=ax[1].transAxes, fontsize=8, color=\"white\",)\n",
    "\n",
    "ax[2].text(0.5, 0.89, titles[2], fontweight=\"bold\", ha='center', \n",
    "          transform=ax[2].transAxes, fontsize=8, color=\"white\",)\n",
    "\n",
    "plt.show()"
   ],
   "outputs": [
    {
     "output_type": "stream",
     "name": "stdout",
     "text": [
      "['fock', 'binomial', 'coherent']\n"
     ]
    },
    {
     "output_type": "stream",
     "name": "stderr",
     "text": [
      "/Users/shahnawaz/Dropbox/phd/tomography/manuscript/code/qst-nn/qst_nn/utils.py:234: MatplotlibDeprecationWarning: shading='flat' when X and Y have the same dimensions as C is deprecated since 3.3.  Either specify the corners of the quadrilaterals with X and Y, or pass shading='auto', 'nearest' or 'gouraud', or set rcParams['pcolor.shading'].  This will become an error two minor releases later.\n",
      "  im = ax[0].pcolor(xvec, yvec, d1,\n",
      "/Users/shahnawaz/Dropbox/phd/tomography/manuscript/code/qst-nn/qst_nn/utils.py:238: MatplotlibDeprecationWarning: shading='flat' when X and Y have the same dimensions as C is deprecated since 3.3.  Either specify the corners of the quadrilaterals with X and Y, or pass shading='auto', 'nearest' or 'gouraud', or set rcParams['pcolor.shading'].  This will become an error two minor releases later.\n",
      "  im = ax[1].pcolor(xvec, yvec, d2,\n",
      "/Users/shahnawaz/Dropbox/phd/tomography/manuscript/code/qst-nn/qst_nn/utils.py:242: MatplotlibDeprecationWarning: shading='flat' when X and Y have the same dimensions as C is deprecated since 3.3.  Either specify the corners of the quadrilaterals with X and Y, or pass shading='auto', 'nearest' or 'gouraud', or set rcParams['pcolor.shading'].  This will become an error two minor releases later.\n",
      "  im = ax[2].pcolor(xvec, yvec, d3,\n"
     ]
    },
    {
     "output_type": "display_data",
     "data": {
      "image/png": "[encoded data removed]",
      "text/plain": [
       "<Figure size 245.081x85.7783 with 4 Axes>"
      ]
     },
     "metadata": {
      "needs_background": "light"
     }
    }
   ],
   "metadata": {}
  },
  {
   "cell_type": "code",
   "execution_count": null,
   "source": [],
   "outputs": [],
   "metadata": {}
  }
 ],
 "metadata": {
  "kernelspec": {
   "name": "python3",
   "display_name": "Python 3.9.7 64-bit ('qst-nn': conda)"
  },
  "language_info": {
   "codemirror_mode": {
    "name": "ipython",
    "version": 3
   },
   "file_extension": ".py",
   "mimetype": "text/x-python",
   "name": "python",
   "nbconvert_exporter": "python",
   "pygments_lexer": "ipython3",
   "version": "3.9.7"
  },
  "interpreter": {
   "hash": "304bacea9b9b16641736e2a98e90217724481d8203afc1cc755d453ee62a01d9"
  }
 },
 "nbformat": 4,
 "nbformat_minor": 4
}