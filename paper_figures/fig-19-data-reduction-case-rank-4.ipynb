{
 "cells": [
  {
   "cell_type": "code",
   "execution_count": 4,
   "source": [
    "import tensorflow as tf\n",
    "\n",
    "import numpy as np\n",
    "\n",
    "\n",
    "\n",
    "from qutip.visualization import plot_wigner_fock_distribution\n",
    "from qutip.wigner import qfunc\n",
    "from qutip import fidelity, coherent_dm, Qobj, expect\n",
    "from qutip.states import fock_dm\n",
    "from qutip.random_objects import rand_dm\n",
    "\n",
    "import matplotlib.pyplot as plt\n",
    "\n",
    "\n",
    "\n",
    "from qst_cgan.ops import (random_alpha, dm_to_tf, batched_expect, convert_to_real_ops)\n",
    "from qst_cgan.gan import Generator, Discriminator\n",
    "\n",
    "from qst_cgan.ops import convert_to_real_ops, batched_expect, tf_fidelity\n",
    "from qst_cgan.gan import generator_loss, discriminator_loss, Generator, Discriminator\n",
    "\n",
    "import pickle\n",
    "\n",
    "from qst_nn.utils import plot_three_fock, plot_three_husimi, plot_all_fidelities, cat\n",
    "from dataclasses import dataclass\n",
    "\n",
    "\n",
    "from tqdm.auto import tqdm\n",
    "\n",
    "tf.keras.backend.set_floatx('float64')\n",
    "\n",
    "%load_ext autoreload\n",
    "%autoreload 2"
   ],
   "outputs": [
    {
     "output_type": "stream",
     "name": "stdout",
     "text": [
      "The autoreload extension is already loaded. To reload it, use:\n",
      "  %reload_ext autoreload\n"
     ]
    }
   ],
   "metadata": {}
  },
  {
   "cell_type": "code",
   "execution_count": 5,
   "source": [
    "fig_width_pt = 246.0  # Get this from LaTeX using \\showthe\\columnwidth\n",
    "inches_per_pt = 1.0/72.27               # Convert pt to inch\n",
    "golden_mean = (np.sqrt(5)-1.0)/2.0         # Aesthetic ratio\n",
    "fig_width = fig_width_pt*inches_per_pt  # width in inches\n",
    "fig_height = fig_width*golden_mean      # height in inches\n",
    "fig_size =  [fig_width,fig_height]\n",
    "params = {# 'backend': 'ps',\n",
    "          'axes.labelsize': 8,\n",
    "          'font.size': 8,\n",
    "          'xtick.labelsize': 8,\n",
    "          'ytick.labelsize': 8,\n",
    "          'axes.labelpad': 1,\n",
    "          'text.usetex': False,\n",
    "          'figure.figsize': fig_size}\n",
    "plt.rcParams.update(params)"
   ],
   "outputs": [],
   "metadata": {}
  },
  {
   "cell_type": "code",
   "execution_count": 6,
   "source": [
    "hilbert_size = 32\n",
    "# Betas can be selected in a grid or randomly in a circle\n",
    "num_grid = 32\n",
    "\n",
    "beta_max = 5\n",
    "mixing = 0.8\n",
    "\n",
    "psi = cat(hilbert_size, 2, 0, 0)\n",
    "rho = psi*psi.dag()"
   ],
   "outputs": [],
   "metadata": {}
  },
  {
   "cell_type": "markdown",
   "source": [
    "# Define functions to get measurement operators (Husimi Q functions)"
   ],
   "metadata": {}
  },
  {
   "cell_type": "code",
   "execution_count": 7,
   "source": [
    "def husimi_ops(hilbert_size, betas):\n",
    "    \"\"\"\n",
    "    Constructs a list of measurement operators for the Wigner function\n",
    "    measurement at beta values.\n",
    "    \n",
    "    Args:\n",
    "        hilbert_size (int): The hilbert size dimension for the operators\n",
    "        betas (list/array): N complex values to construct the operator\n",
    "        \n",
    "    Returns:\n",
    "        ops_list (list): A list of (N, hilbert_size, hilbert_size) for N ops\n",
    "    \"\"\"\n",
    "    ops_list = []\n",
    "    \n",
    "    for beta in tqdm(betas):\n",
    "        op = coherent_dm(hilbert_size*2, beta)\n",
    "        op = Qobj(op[:hilbert_size, :hilbert_size])\n",
    "        ops_list.append(op)\n",
    "\n",
    "    return ops_list\n",
    "\n",
    "\n",
    "def mix(rho, mixing=1, rank=1):\n",
    "    mixes = [fock_dm(hilbert_size, i) for i in range(rank - 1)]\n",
    "    mixed_state = mixing*(rho) + (1 - mixing)*(sum(mixes))\n",
    "    mixed_state = mixed_state.unit()\n",
    "    return mixed_state\n",
    "\n",
    "\n",
    "num_points = 256\n",
    "rank = 4\n",
    "\n",
    "rho_mixed = mix(rho, mixing, rank)\n",
    "plot_wigner_fock_distribution(rho_mixed)\n",
    "\n",
    "\n",
    "rand_betas = [random_alpha(beta_max) for i in range(num_points)]\n",
    "m_ops = husimi_ops(hilbert_size, rand_betas)"
   ],
   "outputs": [
    {
     "output_type": "stream",
     "name": "stderr",
     "text": [
      "100%|██████████| 256/256 [00:01<00:00, 192.48it/s]\n"
     ]
    },
    {
     "output_type": "display_data",
     "data": {
      "image/png": "[encoded data removed]",
      "text/plain": [
       "<Figure size 576x288 with 2 Axes>"
      ]
     },
     "metadata": {
      "needs_background": "light"
     }
    }
   ],
   "metadata": {}
  },
  {
   "cell_type": "markdown",
   "source": [
    "# Train the CGAN"
   ],
   "metadata": {}
  },
  {
   "cell_type": "code",
   "execution_count": 8,
   "source": [
    "ops_numpy = [op.data.toarray() for op in m_ops] # convert the QuTiP Qobj to numpy arrays\n",
    "ops_tf = tf.convert_to_tensor([ops_numpy]) # convert the numpy arrays to complex TensorFlow tensors\n",
    "A = convert_to_real_ops(ops_tf)\n",
    "\n",
    "rho_numpy = rho_mixed.data.toarray().reshape((1, hilbert_size, hilbert_size)) # Conversion to NumPy array and reshaping into (1, N, N) to allow batching\n",
    "rho_tf = tf.complex(rho_numpy.real, rho_numpy.imag)\n",
    "\n",
    "x = batched_expect(ops_tf, rho_tf)\n",
    "num_measurements = x.shape[-1]"
   ],
   "outputs": [
    {
     "output_type": "stream",
     "name": "stderr",
     "text": [
      "2021-09-24 18:26:22.788407: I tensorflow/core/platform/cpu_feature_guard.cc:142] This TensorFlow binary is optimized with oneAPI Deep Neural Network Library (oneDNN) to use the following CPU instructions in performance-critical operations:  AVX2 FMA\n",
      "To enable them in other operations, rebuild TensorFlow with the appropriate compiler flags.\n"
     ]
    }
   ],
   "metadata": {}
  },
  {
   "cell_type": "code",
   "execution_count": 19,
   "source": [
    "tf.keras.backend.clear_session()\n",
    "\n",
    "\n",
    "generator = Generator(hilbert_size, num_measurements, noise=0.) # Specify the number of measurement settings and Gaussian noise\n",
    "discriminator = Discriminator(hilbert_size, num_measurements)"
   ],
   "outputs": [],
   "metadata": {}
  },
  {
   "cell_type": "code",
   "execution_count": 21,
   "source": [
    "density_layer_idx = None\n",
    "\n",
    "for i, layer in enumerate(generator.layers):\n",
    "    if \"density_matrix\" in layer._name:\n",
    "        density_layer_idx = i\n",
    "        break\n",
    "\n",
    "\n",
    "model_dm = tf.keras.Model(inputs=generator.input, outputs=generator.layers[density_layer_idx].output)\n",
    "\n",
    "@dataclass\n",
    "class LossHistory:\n",
    "    \"\"\"Class for keeping track of loss\"\"\"\n",
    "    generator: list\n",
    "    discriminator: list\n",
    "    l1: list\n",
    "\n",
    "loss = LossHistory([], [], [])\n",
    "fidelities = []\n",
    "\n",
    "initial_learning_rate = 0.0002\n",
    "\n",
    "lr_schedule = tf.keras.optimizers.schedules.InverseTimeDecay(initial_learning_rate,\n",
    "                                                             decay_steps=10000,\n",
    "                                                             decay_rate=.96,\n",
    "                                                             staircase=False)\n",
    "\n",
    "lam = 1.\n",
    "\n",
    "generator_optimizer = tf.keras.optimizers.Adam(lr_schedule, 0.5, 0.5)\n",
    "discriminator_optimizer = tf.keras.optimizers.Adam(lr_schedule, 0.5, 0.5)\n",
    "\n",
    "max_iterations = 500\n",
    "\n",
    "def train_step(A, x):\n",
    "    \"\"\"Takes one step of training for the full A matrix representing the\n",
    "    measurement operators and data x.\n",
    "\n",
    "    Note that the `generator`, `discriminator`, `generator_optimizer` and the\n",
    "    `discriminator_optimizer` has to be defined before calling this function.\n",
    "\n",
    "    Args:\n",
    "        A (tf.Tensor): A tensor of shape (m, hilbert_size, hilbert_size, n x 2)\n",
    "                       where m=1 for a single reconstruction, and n represents\n",
    "                       the number of measured operators. We split the complex\n",
    "                       operators as real and imaginary in the last axis. The \n",
    "                       helper function `convert_to_real_ops` can be used to\n",
    "                       generate the matrix A with a set of complex operators\n",
    "                       given by `ops` with shape (1, n, hilbert_size, hilbert_size)\n",
    "                       by calling `A = convert_to_real_ops(ops)`.\n",
    "\n",
    "        x (tf.Tensor): A tensor of shape (m, n) with m=1 for a single\n",
    "                       reconstruction and `n` representing the number of\n",
    "                       measurements. \n",
    "    \"\"\"\n",
    "    with tf.GradientTape() as gen_tape, tf.GradientTape() as disc_tape:\n",
    "        gen_output = generator([A, x], training=True)\n",
    "\n",
    "        disc_real_output = discriminator([A, x, x], training=True)\n",
    "        disc_generated_output = discriminator([A, x, gen_output], training=True)\n",
    "\n",
    "        gen_total_loss, gen_gan_loss, gen_l1_loss = generator_loss(\n",
    "            disc_generated_output, gen_output, x, lam=lam\n",
    "        )\n",
    "        disc_loss = discriminator_loss(disc_real_output, disc_generated_output)\n",
    "\n",
    "    generator_gradients = gen_tape.gradient(\n",
    "        gen_total_loss, generator.trainable_variables\n",
    "    )\n",
    "    discriminator_gradients = disc_tape.gradient(\n",
    "        disc_loss, discriminator.trainable_variables\n",
    "    )\n",
    "\n",
    "    generator_optimizer.apply_gradients(\n",
    "        zip(generator_gradients, generator.trainable_variables)\n",
    "    )\n",
    "    discriminator_optimizer.apply_gradients(\n",
    "        zip(discriminator_gradients, discriminator.trainable_variables)\n",
    "    )\n",
    "\n",
    "    loss.generator.append(gen_gan_loss)\n",
    "    loss.l1.append(gen_l1_loss)\n",
    "    loss.discriminator.append(disc_loss)\n",
    "\n",
    "\n",
    "\n",
    "pbar = tqdm(range(max_iterations))\n",
    "for i in pbar:\n",
    "    train_step(A, x)\n",
    "    density_matrix = model_dm([A, x])\n",
    "    dm_reconstructed = Qobj(density_matrix.numpy()[0].reshape(hilbert_size, hilbert_size))\n",
    "    f = fidelity(dm_reconstructed, rho_mixed)\n",
    "    fidelities.append(f)\n",
    "    pbar.set_description(\"Fidelity {} | Gen loss {} | L1 loss {} | Disc loss {}\".format(f, loss.generator[-1], loss.l1[-1], loss.discriminator[-1]))"
   ],
   "outputs": [
    {
     "output_type": "stream",
     "name": "stderr",
     "text": [
      "Fidelity 0.9061230111373161 | Gen loss 0.6933907866477966 | L1 loss 0.0035851119056237737 | Disc loss 1.3862982988357544: 100%|██████████| 500/500 [01:03<00:00,  7.87it/s]\n"
     ]
    }
   ],
   "metadata": {}
  },
  {
   "cell_type": "markdown",
   "source": [
    "# Train iMLE"
   ],
   "metadata": {}
  },
  {
   "cell_type": "code",
   "execution_count": 22,
   "source": [
    "data = expect(m_ops, rho_mixed)\n",
    "\n",
    "fidelities_imle = []\n",
    "max_iterations = 10000\n",
    "\n",
    "rho_imle = rand_dm(hilbert_size, 0.8)\n",
    "fidelities_imle.append(fidelity(rho, rho_imle))\n",
    "pbar = tqdm(range(max_iterations))\n",
    "\n",
    "print(fidelities_imle)"
   ],
   "outputs": [
    {
     "output_type": "stream",
     "name": "stderr",
     "text": [
      "  0%|          | 0/10000 [00:00<?, ?it/s]"
     ]
    },
    {
     "output_type": "stream",
     "name": "stdout",
     "text": [
      "[0.16721496680781253]\n"
     ]
    }
   ],
   "metadata": {}
  },
  {
   "cell_type": "code",
   "execution_count": 23,
   "source": [
    "for i in range(max_iterations):\n",
    "    guessed_val = expect(m_ops, rho_imle)\n",
    "    ratio = data / guessed_val\n",
    "\n",
    "    R = Qobj(np.einsum(\"aij,a->ij\", ops_numpy, ratio))\n",
    "    rho_imle = R * rho_imle * R\n",
    "    rho_imle = rho_imle / rho_imle.tr()\n",
    "\n",
    "    f = fidelity(rho_imle, rho)\n",
    "    fidelities_imle.append(f)\n",
    "\n",
    "    pbar.set_description(\"Fidelity iMLE {:.4f}\".format(f))\n",
    "    pbar.update()"
   ],
   "outputs": [
    {
     "output_type": "stream",
     "name": "stderr",
     "text": [
      "Fidelity iMLE 0.4051:  23%|██▎       | 2309/10000 [00:49<02:54, 44.04it/s]"
     ]
    },
    {
     "output_type": "error",
     "ename": "KeyboardInterrupt",
     "evalue": "",
     "traceback": [
      "\u001b[0;31m---------------------------------------------------------------------------\u001b[0m",
      "\u001b[0;31mKeyboardInterrupt\u001b[0m                         Traceback (most recent call last)",
      "\u001b[0;32m/var/folders/8s/tfpsk_fx609f8w7z__yzz9vh0000gn/T/ipykernel_31073/1522633672.py\u001b[0m in \u001b[0;36m<module>\u001b[0;34m\u001b[0m\n\u001b[1;32m      3\u001b[0m     \u001b[0mratio\u001b[0m \u001b[0;34m=\u001b[0m \u001b[0mdata\u001b[0m \u001b[0;34m/\u001b[0m \u001b[0mguessed_val\u001b[0m\u001b[0;34m\u001b[0m\u001b[0;34m\u001b[0m\u001b[0m\n\u001b[1;32m      4\u001b[0m \u001b[0;34m\u001b[0m\u001b[0m\n\u001b[0;32m----> 5\u001b[0;31m     \u001b[0mR\u001b[0m \u001b[0;34m=\u001b[0m \u001b[0mQobj\u001b[0m\u001b[0;34m(\u001b[0m\u001b[0mnp\u001b[0m\u001b[0;34m.\u001b[0m\u001b[0meinsum\u001b[0m\u001b[0;34m(\u001b[0m\u001b[0;34m\"aij,a->ij\"\u001b[0m\u001b[0;34m,\u001b[0m \u001b[0mops_numpy\u001b[0m\u001b[0;34m,\u001b[0m \u001b[0mratio\u001b[0m\u001b[0;34m)\u001b[0m\u001b[0;34m)\u001b[0m\u001b[0;34m\u001b[0m\u001b[0;34m\u001b[0m\u001b[0m\n\u001b[0m\u001b[1;32m      6\u001b[0m     \u001b[0mrho_imle\u001b[0m \u001b[0;34m=\u001b[0m \u001b[0mR\u001b[0m \u001b[0;34m*\u001b[0m \u001b[0mrho_imle\u001b[0m \u001b[0;34m*\u001b[0m \u001b[0mR\u001b[0m\u001b[0;34m\u001b[0m\u001b[0;34m\u001b[0m\u001b[0m\n\u001b[1;32m      7\u001b[0m     \u001b[0mrho_imle\u001b[0m \u001b[0;34m=\u001b[0m \u001b[0mrho_imle\u001b[0m \u001b[0;34m/\u001b[0m \u001b[0mrho_imle\u001b[0m\u001b[0;34m.\u001b[0m\u001b[0mtr\u001b[0m\u001b[0;34m(\u001b[0m\u001b[0;34m)\u001b[0m\u001b[0;34m\u001b[0m\u001b[0;34m\u001b[0m\u001b[0m\n",
      "\u001b[0;32m<__array_function__ internals>\u001b[0m in \u001b[0;36meinsum\u001b[0;34m(*args, **kwargs)\u001b[0m\n",
      "\u001b[0;32m~/miniconda3/envs/qst-nn/lib/python3.9/site-packages/numpy/core/einsumfunc.py\u001b[0m in \u001b[0;36meinsum\u001b[0;34m(out, optimize, *operands, **kwargs)\u001b[0m\n\u001b[1;32m   1348\u001b[0m         \u001b[0;32mif\u001b[0m \u001b[0mspecified_out\u001b[0m\u001b[0;34m:\u001b[0m\u001b[0;34m\u001b[0m\u001b[0;34m\u001b[0m\u001b[0m\n\u001b[1;32m   1349\u001b[0m             \u001b[0mkwargs\u001b[0m\u001b[0;34m[\u001b[0m\u001b[0;34m'out'\u001b[0m\u001b[0;34m]\u001b[0m \u001b[0;34m=\u001b[0m \u001b[0mout\u001b[0m\u001b[0;34m\u001b[0m\u001b[0;34m\u001b[0m\u001b[0m\n\u001b[0;32m-> 1350\u001b[0;31m         \u001b[0;32mreturn\u001b[0m \u001b[0mc_einsum\u001b[0m\u001b[0;34m(\u001b[0m\u001b[0;34m*\u001b[0m\u001b[0moperands\u001b[0m\u001b[0;34m,\u001b[0m \u001b[0;34m**\u001b[0m\u001b[0mkwargs\u001b[0m\u001b[0;34m)\u001b[0m\u001b[0;34m\u001b[0m\u001b[0;34m\u001b[0m\u001b[0m\n\u001b[0m\u001b[1;32m   1351\u001b[0m \u001b[0;34m\u001b[0m\u001b[0m\n\u001b[1;32m   1352\u001b[0m     \u001b[0;31m# Check the kwargs to avoid a more cryptic error later, without having to\u001b[0m\u001b[0;34m\u001b[0m\u001b[0;34m\u001b[0m\u001b[0m\n",
      "\u001b[0;31mKeyboardInterrupt\u001b[0m: "
     ]
    }
   ],
   "metadata": {}
  },
  {
   "cell_type": "code",
   "execution_count": 24,
   "source": [
    "fig, ax = plot_all_fidelities([fidelities], x=np.arange(0, len(fidelities)), label=\"QST-CGAN\", show_mean=True)\n",
    "plot_all_fidelities([fidelities_imle], x=np.arange(0, len(fidelities_imle)), fig=fig, ax=ax, color=\"b\",\n",
    "                    label=\"iMLE\", title=\"(a) Rank = 4, Measurements = {}\".format(num_points),\n",
    "                    show_mean=True)\n",
    "plt.legend()\n",
    "# figpath=\"figures/\""
   ],
   "outputs": [
    {
     "output_type": "execute_result",
     "data": {
      "text/plain": [
       "<matplotlib.legend.Legend at 0x187a89be0>"
      ]
     },
     "metadata": {},
     "execution_count": 24
    },
    {
     "output_type": "display_data",
     "data": {
      "image/png": "[encoded data removed]",
      "text/plain": [
       "<Figure size 245.081x151.468 with 1 Axes>"
      ]
     },
     "metadata": {
      "needs_background": "light"
     }
    }
   ],
   "metadata": {}
  },
  {
   "cell_type": "code",
   "execution_count": 25,
   "source": [
    "xvec = np.linspace(-5, 5, 32)\n",
    "yvec = np.linspace(-5, 5, 32)\n",
    "\n",
    "rho1  = rho_mixed\n",
    "q1 = qfunc(rho1, xvec, yvec, g=2)\n",
    "\n",
    "rho2 = rho_imle # imle_states[-1]\n",
    "q2 = qfunc(rho2, xvec, yvec, g=2)\n",
    "\n",
    "\n",
    "rho3 = dm_reconstructed\n",
    "q3 = qfunc(rho3, xvec, yvec, g=2)\n",
    "\n",
    "\n",
    "intext = [r\"$\\rho$\",\n",
    "          r\"F($\\rho, \\rho'$)=\"+\"{:.2f}\".format(fidelity(rho1, rho2)),\n",
    "          r\"F($\\rho, \\rho_{G}$)=\"+\"{:.2f}\".format(fidelity(rho1, rho3))]\n",
    "\n",
    "bbox=dict(boxstyle='square, pad=0.01', fc='None', ec='None')\n",
    "fig, ax = plot_three_husimi(q1, q2, q3, cmap=\"hot\",\n",
    "                            subtitles=[\"(b) Data\", \"(c) iMLE\", \"(d) QST-CGAN\"])\n",
    "textcolor=\"w\"\n",
    "ax[0].text(0.5, 0.87, intext[0], bbox=bbox, ha='center',fontweight=\"bold\",\n",
    "      transform=ax[0].transAxes, fontsize=7, color=textcolor, )\n",
    "\n",
    "for i in range(1,3):\n",
    "    ax[i].text(0.5, 0.85, intext[i], bbox=bbox, ha='center',fontweight=\"bold\",\n",
    "          transform=ax[i].transAxes, fontsize=7, color=textcolor,)\n",
    "ax[0].scatter(np.real(rand_betas), np.imag(rand_betas), marker=\"x\", s=0.2, color=\"w\")"
   ],
   "outputs": [
    {
     "output_type": "stream",
     "name": "stderr",
     "text": [
      "/Users/shahnawaz/Dropbox/phd/tomography/manuscript/code/qst-nn/qst_nn/utils.py:234: MatplotlibDeprecationWarning: shading='flat' when X and Y have the same dimensions as C is deprecated since 3.3.  Either specify the corners of the quadrilaterals with X and Y, or pass shading='auto', 'nearest' or 'gouraud', or set rcParams['pcolor.shading'].  This will become an error two minor releases later.\n",
      "  im = ax[0].pcolor(xvec, yvec, d1,\n",
      "/Users/shahnawaz/Dropbox/phd/tomography/manuscript/code/qst-nn/qst_nn/utils.py:238: MatplotlibDeprecationWarning: shading='flat' when X and Y have the same dimensions as C is deprecated since 3.3.  Either specify the corners of the quadrilaterals with X and Y, or pass shading='auto', 'nearest' or 'gouraud', or set rcParams['pcolor.shading'].  This will become an error two minor releases later.\n",
      "  im = ax[1].pcolor(xvec, yvec, d2,\n",
      "/Users/shahnawaz/Dropbox/phd/tomography/manuscript/code/qst-nn/qst_nn/utils.py:242: MatplotlibDeprecationWarning: shading='flat' when X and Y have the same dimensions as C is deprecated since 3.3.  Either specify the corners of the quadrilaterals with X and Y, or pass shading='auto', 'nearest' or 'gouraud', or set rcParams['pcolor.shading'].  This will become an error two minor releases later.\n",
      "  im = ax[2].pcolor(xvec, yvec, d3,\n"
     ]
    },
    {
     "output_type": "execute_result",
     "data": {
      "text/plain": [
       "<matplotlib.collections.PathCollection at 0x187f02a90>"
      ]
     },
     "metadata": {},
     "execution_count": 25
    },
    {
     "output_type": "display_data",
     "data": {
      "image/png": "[encoded data removed]",
      "text/plain": [
       "<Figure size 245.081x85.7783 with 4 Axes>"
      ]
     },
     "metadata": {
      "needs_background": "light"
     }
    }
   ],
   "metadata": {}
  },
  {
   "cell_type": "code",
   "execution_count": 26,
   "source": [
    "fig, ax = plot_three_fock(rho1, rho2, rho3, subtitles=[r\"(e) $\\rho$\", \"(f) iMLE\", \"(g) QST-CGAN\"])\n",
    "figpath=\"figures/\""
   ],
   "outputs": [
    {
     "output_type": "display_data",
     "data": {
      "image/png": "[encoded data removed]",
      "text/plain": [
       "<Figure size 245.081x85.7783 with 3 Axes>"
      ]
     },
     "metadata": {
      "needs_background": "light"
     }
    },
    {
     "output_type": "stream",
     "name": "stderr",
     "text": [
      "Fidelity iMLE 0.4051:  23%|██▎       | 2310/10000 [01:00<02:54, 44.04it/s]"
     ]
    }
   ],
   "metadata": {}
  },
  {
   "cell_type": "code",
   "execution_count": null,
   "source": [],
   "outputs": [],
   "metadata": {}
  }
 ],
 "metadata": {
  "kernelspec": {
   "name": "python3",
   "display_name": "Python 3.9.7 64-bit ('qst-nn': conda)"
  },
  "language_info": {
   "codemirror_mode": {
    "name": "ipython",
    "version": 3
   },
   "file_extension": ".py",
   "mimetype": "text/x-python",
   "name": "python",
   "nbconvert_exporter": "python",
   "pygments_lexer": "ipython3",
   "version": "3.9.7"
  },
  "interpreter": {
   "hash": "304bacea9b9b16641736e2a98e90217724481d8203afc1cc755d453ee62a01d9"
  }
 },
 "nbformat": 4,
 "nbformat_minor": 4
}