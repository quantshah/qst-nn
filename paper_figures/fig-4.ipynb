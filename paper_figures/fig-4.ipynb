{
 "cells": [
  {
   "cell_type": "markdown",
   "source": [
    "# Noise effects on data (Fig 4)\n",
    "\n",
    "The effect of various types of noise in the measurement data (Husimi Q)."
   ],
   "metadata": {}
  },
  {
   "cell_type": "code",
   "execution_count": 3,
   "source": [
    "import numpy as np\n",
    "\n",
    "from tensorflow.keras.preprocessing.image import ImageDataGenerator\n",
    "import tensorflow as tf\n",
    "\n",
    "from qutip.wigner import qfunc\n",
    "from qutip import destroy, expect\n",
    "\n",
    "from qst_nn.utils import plot_three_husimi\n",
    "from qst_nn.ops import binomial, add_state_noise, GaussianConv, gaus2d\n",
    "from qst_nn.utils import add_photon_noise\n",
    "\n",
    "from skimage.util import random_noise\n",
    "\n",
    "import matplotlib.pyplot as plt\n",
    "import matplotlib.colors as colors"
   ],
   "outputs": [],
   "metadata": {}
  },
  {
   "cell_type": "markdown",
   "source": [
    "# Construct a TensorFlow data generator and add noise"
   ],
   "metadata": {}
  },
  {
   "cell_type": "code",
   "execution_count": 4,
   "source": [
    "def normalize(im):\n",
    "    \"\"\"\n",
    "    Normalize an image by dividing by the max value\n",
    "    \"\"\"\n",
    "    return im/tf.reduce_max(im)\n",
    "\n",
    "datagen = ImageDataGenerator(\n",
    "            featurewise_center=False,\n",
    "            featurewise_std_normalization=False,\n",
    "            samplewise_std_normalization=False,\n",
    "            samplewise_center=False,\n",
    "            rotation_range=180,\n",
    "            width_shift_range=.2,\n",
    "            height_shift_range=.2,\n",
    "            horizontal_flip=True,\n",
    "            vertical_flip=True,\n",
    "            shear_range=5,\n",
    "            zoom_range=0.2,\n",
    "            preprocessing_function=normalize\n",
    ")\n",
    "\n",
    "# Any other preprocessing or removal of the data should be done before this step"
   ],
   "outputs": [],
   "metadata": {}
  },
  {
   "cell_type": "markdown",
   "source": [
    "# Generate a binomial state"
   ],
   "metadata": {}
  },
  {
   "cell_type": "code",
   "execution_count": 7,
   "source": [
    "hilbert_size = 32\n",
    "grid_size = 32\n",
    "\n",
    "xvec = np.linspace(-5, 5, grid_size)\n",
    "yvec = np.linspace(-5, 5, grid_size)\n",
    "\n",
    "rho, mu = binomial(hilbert_size, S=2, N=5, mu=0)"
   ],
   "outputs": [],
   "metadata": {}
  },
  {
   "cell_type": "markdown",
   "source": [
    "# Simulate noise as a mixed and compute the Q function"
   ],
   "metadata": {}
  },
  {
   "cell_type": "code",
   "execution_count": 6,
   "source": [
    "rho_mixed = add_state_noise(rho, sigma=0.5, sparsity=0.8)\n",
    "data_mixed = qfunc(rho_mixed, xvec, yvec, g=2)"
   ],
   "outputs": [],
   "metadata": {}
  },
  {
   "cell_type": "markdown",
   "source": [
    "# Simulate noise due to Gaussian convolution"
   ],
   "metadata": {}
  },
  {
   "cell_type": "code",
   "execution_count": 9,
   "source": [
    "nth = 3 # Thermal photon number (determines the Gaussian convolution)\n",
    "\n",
    "X, Y = np.meshgrid(xvec, yvec) # get 2D variables instead of 1D\n",
    "gauss_kernel = gaus2d(X, Y, n0=nth)\n",
    "\n",
    "data_pure = qfunc(rho, xvec, yvec, g=2)\n",
    "data_gaussian_conv = GaussianConv(gauss_kernel)(data_pure.reshape((1, grid_size, grid_size, 1)))\n",
    "\n",
    "# convert to Numpy array\n",
    "data_gaussian_conv = data_gaussian_conv.numpy().reshape(grid_size, grid_size)"
   ],
   "outputs": [],
   "metadata": {}
  },
  {
   "cell_type": "markdown",
   "source": [
    "# Photon loss noise"
   ],
   "metadata": {}
  },
  {
   "cell_type": "code",
   "execution_count": 11,
   "source": [
    "tlist = np.linspace(0, 1000, 2000)\n",
    "photon_loss_states = add_photon_noise(rho, gamma=0.05, tlist=tlist)\n",
    "rho_photon_loss = photon_loss_states[555]\n",
    "\n",
    "\n",
    "a = destroy(hilbert_size)\n",
    "n0 = expect(a.dag()*a, rho)\n",
    "n = expect(a.dag()*a, rho_photon_loss)\n",
    "\n",
    "a = destroy(hilbert_size)\n",
    "print(\"Photons left\", n)\n",
    "print(\"(n0 - n)/n0\", (n0 - n)/n0)\n",
    "\n",
    "\n",
    "data_photon_loss = qfunc(rho_photon_loss, xvec, yvec, g=2)"
   ],
   "outputs": [
    {
     "output_type": "stream",
     "name": "stdout",
     "text": [
      "Photons left 4.10136549949845\n",
      "(n0 - n)/n0 0.500474708489214\n"
     ]
    }
   ],
   "metadata": {}
  },
  {
   "cell_type": "markdown",
   "source": [
    "# Plot Fig 4"
   ],
   "metadata": {}
  },
  {
   "cell_type": "code",
   "execution_count": 12,
   "source": [
    "colors1 = colors.LinearSegmentedColormap.from_list(\"\", [(0, \"white\"),\n",
    "                                                        (1, \"red\"),\n",
    "                                                       ])(np.linspace(0, 1, 256))\n",
    "\n",
    "mymap = colors.LinearSegmentedColormap.from_list('my_colormap', colors1)\n",
    "\n",
    "plot_three_husimi(data_mixed, data_gaussian_conv, data_photon_loss, xvec=xvec, yvec=yvec,\n",
    "                  cmap=\"hot\", #mymap,\n",
    "                 subtitles=[r\"(a) $\\rho_{mix}$\", r\"(b) Gaussian$^*$\", r\"(c) Loss ($\\gamma$)\"])\n",
    "\n",
    "plt.show()"
   ],
   "outputs": [
    {
     "output_type": "stream",
     "name": "stderr",
     "text": [
      "/Users/shahnawaz/Dropbox/phd/tomography/manuscript/code/qst-nn/qst_nn/utils.py:234: MatplotlibDeprecationWarning: shading='flat' when X and Y have the same dimensions as C is deprecated since 3.3.  Either specify the corners of the quadrilaterals with X and Y, or pass shading='auto', 'nearest' or 'gouraud', or set rcParams['pcolor.shading'].  This will become an error two minor releases later.\n",
      "  im = ax[0].pcolor(xvec, yvec, d1,\n",
      "/Users/shahnawaz/Dropbox/phd/tomography/manuscript/code/qst-nn/qst_nn/utils.py:238: MatplotlibDeprecationWarning: shading='flat' when X and Y have the same dimensions as C is deprecated since 3.3.  Either specify the corners of the quadrilaterals with X and Y, or pass shading='auto', 'nearest' or 'gouraud', or set rcParams['pcolor.shading'].  This will become an error two minor releases later.\n",
      "  im = ax[1].pcolor(xvec, yvec, d2,\n",
      "/Users/shahnawaz/Dropbox/phd/tomography/manuscript/code/qst-nn/qst_nn/utils.py:242: MatplotlibDeprecationWarning: shading='flat' when X and Y have the same dimensions as C is deprecated since 3.3.  Either specify the corners of the quadrilaterals with X and Y, or pass shading='auto', 'nearest' or 'gouraud', or set rcParams['pcolor.shading'].  This will become an error two minor releases later.\n",
      "  im = ax[2].pcolor(xvec, yvec, d3,\n"
     ]
    },
    {
     "output_type": "display_data",
     "data": {
      "image/png": "[encoded data removed]",
      "text/plain": [
       "<Figure size 245.081x85.7783 with 4 Axes>"
      ]
     },
     "metadata": {
      "needs_background": "light"
     }
    }
   ],
   "metadata": {}
  },
  {
   "cell_type": "markdown",
   "source": [
    "# Affine transform, additive Gaussian and Pepper"
   ],
   "metadata": {}
  },
  {
   "cell_type": "code",
   "execution_count": 13,
   "source": [
    "affine = datagen.apply_transform(data_pure.reshape((grid_size, grid_size, 1)), {'theta': 100,\n",
    "                                                                    'tx': 5, 'ty':5,\n",
    "                                                                    'shear':5}).reshape(grid_size, grid_size)\n",
    "data_gaussian = tf.keras.layers.GaussianNoise(0.2)(data_pure/np.max(data_pure), training=True)\n",
    "# Pepper\n",
    "data_pepper = random_noise(data_pure, mode=\"pepper\", amount = .5)\n",
    "\n",
    "plot_three_husimi(affine, data_gaussian, data_pepper, xvec=xvec, yvec=yvec, \n",
    "                                    cmap='hot', #mymap\n",
    "                 subtitles=[\"(d) Affine\", r\"(e) Gaussian$^+$\", \"(f) Pepper\"])\n",
    "\n",
    "plt.show()"
   ],
   "outputs": [
    {
     "output_type": "display_data",
     "data": {
      "image/png": "[encoded data removed]",
      "text/plain": [
       "<Figure size 245.081x85.7783 with 4 Axes>"
      ]
     },
     "metadata": {
      "needs_background": "light"
     }
    }
   ],
   "metadata": {}
  }
 ],
 "metadata": {
  "kernelspec": {
   "name": "python3",
   "display_name": "Python 3.9.7 64-bit ('qst-nn': conda)"
  },
  "language_info": {
   "codemirror_mode": {
    "name": "ipython",
    "version": 3
   },
   "file_extension": ".py",
   "mimetype": "text/x-python",
   "name": "python",
   "nbconvert_exporter": "python",
   "pygments_lexer": "ipython3",
   "version": "3.9.7"
  },
  "interpreter": {
   "hash": "304bacea9b9b16641736e2a98e90217724481d8203afc1cc755d453ee62a01d9"
  }
 },
 "nbformat": 4,
 "nbformat_minor": 4
}