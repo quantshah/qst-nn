{
 "cells": [
  {
   "cell_type": "markdown",
   "source": [
    "# Classification of photon loss state (Fig 8)"
   ],
   "metadata": {}
  },
  {
   "cell_type": "code",
   "execution_count": 49,
   "source": [
    "import h5py\n",
    "\n",
    "import numpy as np\n",
    "\n",
    "import qutip\n",
    "from qutip import fidelity, Qobj, destroy, expect, coherent\n",
    "from qutip.wigner import qfunc\n",
    "\n",
    "import tensorflow as tf\n",
    "from tensorflow.keras.preprocessing.image import ImageDataGenerator\n",
    "\n",
    "\n",
    "from qst_nn.models.classifier import Classifier\n",
    "from qst_nn.data.preprocess import remove_data, remap_labels, normalize, add_noise\n",
    "from qst_nn.training.train_classifier import loss, optimizer\n",
    "from qst_nn.utils import plot_three_husimi, plot_three_fock, cat\n",
    "from qst_nn.utils import add_photon_noise\n",
    "\n",
    "\n",
    "import matplotlib.pyplot as plt\n",
    "from mpl_toolkits.axes_grid1 import ImageGrid\n",
    "\n",
    "from tqdm.auto import tqdm\n",
    "\n",
    "\n",
    "from sklearn.metrics import roc_auc_score, accuracy_score\n",
    "\n",
    "# from qst_cgan.ops import cat, random_alpha\n",
    "\n",
    "%load_ext autoreload\n",
    "%autoreload 2\n",
    "\n",
    "os.environ[\"CUDA_VISIBLE_DEVICES\"] = \"\"\n",
    "tf.keras.backend.set_floatx('float32')\n",
    "\n",
    "qutip.settings.atol = 1e-6"
   ],
   "outputs": [
    {
     "output_type": "stream",
     "name": "stdout",
     "text": [
      "The autoreload extension is already loaded. To reload it, use:\n",
      "  %reload_ext autoreload\n"
     ]
    }
   ],
   "metadata": {}
  },
  {
   "cell_type": "markdown",
   "source": [
    "# Set figure option and size"
   ],
   "metadata": {}
  },
  {
   "cell_type": "code",
   "execution_count": 10,
   "source": [
    "# https://scipy-cookbook.readthedocs.io/items/Matplotlib_LaTeX_Examples.html\n",
    "fig_width_pt = 246.0  # Get this from LaTeX using \\showthe\\columnwidth\n",
    "inches_per_pt = 1.0/72.27               # Convert pt to inch\n",
    "golden_mean = (np.sqrt(5)-1.0)/2.0         # Aesthetic ratio\n",
    "fig_width = fig_width_pt*inches_per_pt  # width in inches\n",
    "fig_height = fig_width*golden_mean      # height in inches\n",
    "fig_size =  [fig_width,fig_height]\n",
    "params = {# 'backend': 'ps',\n",
    "          'axes.labelsize': 8,\n",
    "          'font.size': 8,\n",
    "          'xtick.labelsize': 8,\n",
    "          'ytick.labelsize': 8,\n",
    "          'axes.labelpad': 1,\n",
    "          'text.usetex': False,\n",
    "          'figure.figsize': fig_size,}\n",
    "plt.rcParams.update(params)\n",
    "figpath = \"../results/figures/\""
   ],
   "outputs": [],
   "metadata": {}
  },
  {
   "cell_type": "markdown",
   "source": [
    "# Data for a cat state with |$\\alpha$| = 2 under photon loss"
   ],
   "metadata": {}
  },
  {
   "cell_type": "code",
   "execution_count": 71,
   "source": [
    "hilbert_size = 32\n",
    "xgrid, ygrid = 32, 32\n",
    "\n",
    "xvec = np.linspace(-5, 5, xgrid)\n",
    "yvec = np.linspace(-5, 5, ygrid)\n",
    "\n",
    "rho = cat(hilbert_size, 3, 0, 0)\n",
    "tlist = np.linspace(0, 2000, 2000)\n",
    "\n",
    "photon_loss_states = add_photon_noise(rho, gamma=0.05, tlist=tlist)"
   ],
   "outputs": [],
   "metadata": {}
  },
  {
   "cell_type": "code",
   "execution_count": 72,
   "source": [
    "nlist = [] # A list to save delta n/n0\n",
    "\n",
    "state = Qobj(photon_loss_states[0])\n",
    "n0 = expect(a.dag()*a, state)\n",
    "xdata = [] # A list to store the generated data for predictions\n",
    "\n",
    "\n",
    "for k in tqdm(range(0, len(photon_loss_states), 5)):\n",
    "    state = Qobj(photon_loss_states[k])\n",
    "    state = state/state.tr()\n",
    "    data = qfunc(state, xvec, yvec, g=2)\n",
    "    data = normalize(data)\n",
    "\n",
    "    data = data.reshape((1, 32, 32, 1))\n",
    "    n = expect(a.dag()*a, state)\n",
    "    xdata.append(data)\n",
    "\n",
    "    delta_n = (n0 - n)/n0    \n",
    "    nlist.append(delta_n)\n",
    "\n",
    "\n",
    "nlist = np.array(nlist)\n",
    "xdata = np.array(xdata).reshape(-1, xgrid, ygrid)"
   ],
   "outputs": [
    {
     "output_type": "stream",
     "name": "stderr",
     "text": [
      "100%|██████████| 400/400 [00:03<00:00, 125.05it/s]\n"
     ]
    }
   ],
   "metadata": {}
  },
  {
   "cell_type": "markdown",
   "source": [
    "# Plot the data to see the shrinking effect of the photon loss channel"
   ],
   "metadata": {}
  },
  {
   "cell_type": "code",
   "execution_count": 73,
   "source": [
    "image_grid_size = 5\n",
    "num_images = 25\n",
    "\n",
    "# Select a bunch of random indices to get grid x grid images for plotting\n",
    "rand_indices = np.arange(0, x.shape[0], 4)\n",
    "images = x[rand_indices]\n",
    "labels = [r\"$\\delta$ n/$n_0$ = {:.2f}\".format(nlist[i]) for i in rand_indices]\n",
    "\n",
    "\n",
    "fig = plt.figure(figsize=(10, 6), constrained_layout=False)\n",
    "image_grid = ImageGrid(fig, 111,  # similar to subplot(111)\n",
    "                       nrows_ncols=(image_grid_size, image_grid_size),\n",
    "                       cbar_mode=\"edge\",\n",
    "                       cbar_pad = 0.1,\n",
    "                       axes_pad=0.3,)\n",
    "                 \n",
    "\n",
    "for i in range(num_images):\n",
    "    ax, im, label = image_grid[i], images[i], labels[i]\n",
    "\n",
    "    im = ax.pcolor(xvec, yvec, im/np.max(im), vmin=0, vmax=1, cmap=\"hot\")\n",
    "    ax.set_title(label)\n",
    "    ax.cax.colorbar(im, ticks=[0, 0.5, 1])\n",
    "    ax.set_ylabel(r\"Im($\\beta$)\")\n",
    "    ax.set_xlabel(r\"Re($\\beta$)\")\n",
    "\n",
    "plt.show()"
   ],
   "outputs": [
    {
     "output_type": "stream",
     "name": "stderr",
     "text": [
      "/var/folders/8s/tfpsk_fx609f8w7z__yzz9vh0000gn/T/ipykernel_26598/1895885816.py:21: MatplotlibDeprecationWarning: shading='flat' when X and Y have the same dimensions as C is deprecated since 3.3.  Either specify the corners of the quadrilaterals with X and Y, or pass shading='auto', 'nearest' or 'gouraud', or set rcParams['pcolor.shading'].  This will become an error two minor releases later.\n",
      "  im = ax.pcolor(xvec, yvec, im/np.max(im), vmin=0, vmax=1, cmap=\"hot\")\n"
     ]
    },
    {
     "output_type": "display_data",
     "data": {
      "image/png": "[encoded data removed]",
      "text/plain": [
       "<Figure size 720x432 with 50 Axes>"
      ]
     },
     "metadata": {
      "needs_background": "light"
     }
    }
   ],
   "metadata": {}
  },
  {
   "cell_type": "markdown",
   "source": [
    "# Load the saved model"
   ],
   "metadata": {}
  },
  {
   "cell_type": "code",
   "execution_count": 74,
   "source": [
    "classifier = Classifier()\n",
    "classifier.compile(optimizer=optimizer,\n",
    "                   loss=loss,\n",
    "                   metrics=['accuracy'])\n",
    "\n",
    "\n",
    "\n",
    "# Load the model weights\n",
    "checkpoint_path = \"classifier/\"\n",
    "checkpoint_dir = os.path.dirname(checkpoint_path)\n",
    "classifier.load_weights(checkpoint_path)"
   ],
   "outputs": [
    {
     "output_type": "execute_result",
     "data": {
      "text/plain": [
       "<tensorflow.python.training.tracking.util.CheckpointLoadStatus at 0x17f790d90>"
      ]
     },
     "metadata": {},
     "execution_count": 74
    }
   ],
   "metadata": {}
  },
  {
   "cell_type": "markdown",
   "source": [
    "# Predict classes for a lossy cat state"
   ],
   "metadata": {}
  },
  {
   "cell_type": "code",
   "execution_count": 75,
   "source": [
    "pred = classifier.predict(xdata.reshape((-1, 32, 32, 1)))\n",
    "probabilities_softmax = tf.keras.activations.softmax(tf.convert_to_tensor(pred))\n",
    "\n",
    "# Predicted probabilities for each of the seven classes for 400 different \n",
    "# data points of lossy cat states\n",
    "\n",
    "print(probabilities_softmax.shape) "
   ],
   "outputs": [
    {
     "output_type": "stream",
     "name": "stdout",
     "text": [
      "(400, 7)\n"
     ]
    }
   ],
   "metadata": {}
  },
  {
   "cell_type": "markdown",
   "source": [
    "# Plot the predictions\n",
    "\n",
    "Since we only show one plot, we do not have any mean and std. However, we can\n",
    "repeat the code to generate plots for different random cat states and plot the\n",
    "mean and std of the probabilities. "
   ],
   "metadata": {}
  },
  {
   "cell_type": "code",
   "execution_count": 76,
   "source": [
    "reverse_mapping_correct = {\n",
    "          0:\"fock\",\n",
    "         1:\"coherent\",\n",
    "         2:\"thermal\",\n",
    "         3:\"cat\",\n",
    "         4:\"binomial\",\n",
    "         5:\"num\",\n",
    "         6:\"gkp\"\n",
    "          }\n",
    "\n",
    "fig, ax1 = plt.subplots(1, 1, figsize=(fig_width, fig_height))\n",
    "\n",
    "xlist = nlist.ravel()\n",
    "mean = probabilities_softmax\n",
    "\n",
    "for i in range(7):\n",
    "    ax1.plot(xlist, mean[:, i], \"-o\", alpha = 1, markersize=1,\n",
    "             label=\"{}\".format(reverse_mapping_correct[i]))\n",
    "    # ax1.fill_between(xlist, mean[:, i] - std[:, i],\n",
    "    #                 mean[:, i] + std[:, i], alpha=0.1)\n",
    "\n",
    "ax1.legend(loc=\"lower left\", ncol=2, handlelength=.6)\n",
    "# ax1.grid(alpha=0.3)\n",
    "\n",
    "ax1.set_xlabel(r\"Photon loss ($\\delta n$/$n_0$)\",)\n",
    "ax1.set_ylabel(r\"Probability\", labelpad=-4,)\n",
    "\n",
    "\n",
    "ax1.set_ylim(-0.001, 1.1)\n",
    "ax1.set_xlim(-0.001, 1.01)\n",
    "ax1.set_yticks([0, 0.25, 0.5, 0.75, 1.])\n",
    "\n",
    "ax1.set_yticklabels([0, \"\", \"\", \"\", 1])\n",
    "ax1.set_xticks([0, 0.2, 0.4, 0.6, 0.8, 1])\n",
    "ax1.set_xticklabels([0, 0.2, 0.4, 0.6, 0.8, 1])\n",
    "\n",
    "ax1.set_aspect(0.55)\n",
    "# ax1.set_title(r\"(a)\", loc=\"left\")\n",
    "ax1.set_title(\"(a)                                                           \")\n",
    "# ax1.text(0.02, .83, \"(a)\")\n",
    "\n",
    "plt.show()"
   ],
   "outputs": [
    {
     "output_type": "display_data",
     "data": {
      "image/png": "[encoded data removed]",
      "text/plain": [
       "<Figure size 245.081x151.468 with 1 Axes>"
      ]
     },
     "metadata": {
      "needs_background": "light"
     }
    }
   ],
   "metadata": {}
  },
  {
   "cell_type": "code",
   "execution_count": 77,
   "source": [
    "psi = coherent(32, 2) + coherent(32, -2)\n",
    "psi = psi.unit()\n",
    "rho = psi*psi.dag()\n",
    "\n",
    "\n",
    "tlist = np.linspace(0, 3500, 500)\n",
    "\n",
    "states_list_photon_loss = add_photon_noise(rho, gamma=0.08, tlist=tlist)\n",
    "\n",
    "# start, mid, end = 0, int(len(tlist)/2), -1\n",
    "start, end = 0, -1\n",
    "\n",
    "mid = 5\n",
    "end = -1\n",
    "\n",
    "im1 = normalize(qfunc(rho, xvec, yvec, g=2))\n",
    "im2 = normalize(qfunc(states_list_photon_loss[mid], xvec, yvec, g=2))\n",
    "im3 = normalize(qfunc(states_list_photon_loss[end], xvec, yvec, g=2))\n",
    "\n",
    "x = np.array([im1, im2, im3]).reshape((-1, 32, 32, 1))\n",
    "predictions = np.argmax(classifier.predict(x), 1)\n",
    "                                      \n",
    "fig, ax = plot_three_husimi(im1, im2, im3, cmap=\"hot\",\n",
    "                            title=\"(b)                                                           \")\n",
    "\n",
    "predicted_labels = [reverse_mapping_correct[label] for label in predictions]\n",
    "\n",
    "bbox=dict(boxstyle='square, pad=0.01', fc='None', ec='None')\n",
    "textcolor= \"white\"\n",
    "\n",
    "n0 = expect(a.dag()*a, rho)\n",
    "n1 = expect(a.dag()*a, states_list_photon_loss[mid])\n",
    "n2 = expect(a.dag()*a, states_list_photon_loss[end])\n",
    "\n",
    "\n",
    "intext = [r\"$n_0 = ${:.0f}\".format(n0),\n",
    "          r\"$\\delta n/n_0 = ${:.2f}\".format((n0 - n1)/n0),\n",
    "          r\"$\\delta n/n_0 = ${:.0f}\".format((n0 - n2)/n0)]\n",
    "\n",
    "\n",
    "\n",
    "ax[0].text(0.5, 0.83, intext[0], bbox=bbox, ha='center',\n",
    "      transform=ax[0].transAxes, fontsize=8, color=textcolor, fontweight=\"bold\")\n",
    "\n",
    "for i in range(1,3):\n",
    "    ax[i].text(0.5, 0.83, intext[i], bbox=bbox, ha='center',\n",
    "          transform=ax[i].transAxes, fontsize=8, color=textcolor,fontweight=\"bold\")\n",
    "\n",
    "plt.show()"
   ],
   "outputs": [
    {
     "output_type": "stream",
     "name": "stdout",
     "text": [
      "5\n",
      "['cat', 'cat', 'coherent']\n"
     ]
    },
    {
     "output_type": "stream",
     "name": "stderr",
     "text": [
      "/Users/shahnawaz/Dropbox/phd/tomography/manuscript/code/qst-nn/qst_nn/utils.py:234: MatplotlibDeprecationWarning: shading='flat' when X and Y have the same dimensions as C is deprecated since 3.3.  Either specify the corners of the quadrilaterals with X and Y, or pass shading='auto', 'nearest' or 'gouraud', or set rcParams['pcolor.shading'].  This will become an error two minor releases later.\n",
      "  im = ax[0].pcolor(xvec, yvec, d1,\n",
      "/Users/shahnawaz/Dropbox/phd/tomography/manuscript/code/qst-nn/qst_nn/utils.py:238: MatplotlibDeprecationWarning: shading='flat' when X and Y have the same dimensions as C is deprecated since 3.3.  Either specify the corners of the quadrilaterals with X and Y, or pass shading='auto', 'nearest' or 'gouraud', or set rcParams['pcolor.shading'].  This will become an error two minor releases later.\n",
      "  im = ax[1].pcolor(xvec, yvec, d2,\n",
      "/Users/shahnawaz/Dropbox/phd/tomography/manuscript/code/qst-nn/qst_nn/utils.py:242: MatplotlibDeprecationWarning: shading='flat' when X and Y have the same dimensions as C is deprecated since 3.3.  Either specify the corners of the quadrilaterals with X and Y, or pass shading='auto', 'nearest' or 'gouraud', or set rcParams['pcolor.shading'].  This will become an error two minor releases later.\n",
      "  im = ax[2].pcolor(xvec, yvec, d3,\n"
     ]
    },
    {
     "output_type": "display_data",
     "data": {
      "image/png": "[encoded data removed]",
      "text/plain": [
       "<Figure size 245.081x85.7783 with 4 Axes>"
      ]
     },
     "metadata": {
      "needs_background": "light"
     }
    }
   ],
   "metadata": {}
  },
  {
   "cell_type": "code",
   "execution_count": 78,
   "source": [
    "\n",
    "\n",
    "fig, ax = plot_three_fock(rho, states_list_photon_loss[mid],\n",
    "                states_list_photon_loss[end],\n",
    "                title=\"(c)                                                           \")\n",
    "\n",
    "\n",
    "intext = [r\"$\\rho_0$\",\n",
    "          r\"F($\\rho_0, \\rho$)=\"+\"{:.2f}\".format(fidelity(rho, states_list_photon_loss[mid])),\n",
    "          r\"F($\\rho_0, \\rho$)=\"+\"{:.2f}\".format(fidelity(rho, states_list_photon_loss[end]))]\n",
    "\n",
    "\n",
    "\n",
    "textcolor=\"black\"\n",
    "ax[0].text(0.5, 0.87, intext[0], bbox=bbox, ha='center',\n",
    "      transform=ax[0].transAxes, fontsize=7, color=textcolor, )\n",
    "\n",
    "for i in range(1,3):\n",
    "    ax[i].text(0.5, 0.85, intext[i], bbox=bbox, ha='center',\n",
    "          transform=ax[i].transAxes, fontsize=7, color=textcolor,)\n",
    "\n",
    "plt.show()"
   ],
   "outputs": [
    {
     "output_type": "display_data",
     "data": {
      "image/png": "[encoded data removed]",
      "text/plain": [
       "<Figure size 245.081x85.7783 with 3 Axes>"
      ]
     },
     "metadata": {
      "needs_background": "light"
     }
    }
   ],
   "metadata": {}
  },
  {
   "cell_type": "markdown",
   "source": [
    "# Plots for all the data in the paper\n",
    "\n",
    "If you have the full data file for all photon loss states (~5 GB), you can use\n",
    "the code below to get a mean and std plot for the predicted probabilities.\n",
    "\n",
    "Please contact \"shahnawaz.ahmed95@gmail.com\" for the full data files."
   ],
   "metadata": {}
  },
  {
   "cell_type": "code",
   "execution_count": 79,
   "source": [
    "datapath = \"data/\"\n",
    "fname = \"photon_loss_states_cat_restricted-2-0.h5\"\n",
    "\n",
    "with h5py.File(datapath+fname, 'r') as f:\n",
    "    states_list = f[\"states\"][:100]\n",
    "\n",
    "\n",
    "probabilities = []\n",
    "photon_numbers = []\n",
    "\n",
    "a = destroy(hilbert_size)\n",
    "\n",
    "\n",
    "for i, states in enumerate(states_list[:100]):\n",
    "    plist = []\n",
    "    nlist = []\n",
    "\n",
    "    state = Qobj(states[0])\n",
    "\n",
    "    n0 = expect(a.dag()*a, state)\n",
    "    x = []\n",
    "\n",
    "    for k in tqdm(range(0, len(states), 5)):\n",
    "        state = Qobj(states[k])\n",
    "        state = state/state.tr()\n",
    "        data = qfunc(state, xvec, yvec, g=2)\n",
    "        data = normalize(data)\n",
    "        data = data.reshape((1, 32, 32, 1))\n",
    "        n = expect(a.dag()*a, state)\n",
    "        x.append(data)\n",
    "        delta_n = (n0 - n)/n0\n",
    "        \n",
    "        nlist.append(delta_n)\n",
    "\n",
    "    x = np.array(x).reshape((-1, 32, 32, 1))\n",
    "    \n",
    "    probabilities.append(classifier.predict(x))\n",
    "    photon_numbers.append(nlist)"
   ],
   "outputs": [
    {
     "output_type": "stream",
     "name": "stderr",
     "text": [
      "100%|██████████| 100/100 [00:00<00:00, 134.55it/s]\n",
      "100%|██████████| 100/100 [00:00<00:00, 134.71it/s]\n",
      "100%|██████████| 100/100 [00:00<00:00, 124.78it/s]\n",
      "100%|██████████| 100/100 [00:00<00:00, 121.62it/s]\n",
      "100%|██████████| 100/100 [00:00<00:00, 128.65it/s]\n",
      "100%|██████████| 100/100 [00:00<00:00, 133.85it/s]\n",
      "100%|██████████| 100/100 [00:00<00:00, 118.37it/s]\n",
      "100%|██████████| 100/100 [00:00<00:00, 103.19it/s]\n",
      "100%|██████████| 100/100 [00:00<00:00, 124.19it/s]\n",
      "100%|██████████| 100/100 [00:00<00:00, 131.61it/s]\n",
      "100%|██████████| 100/100 [00:00<00:00, 122.27it/s]\n",
      "100%|██████████| 100/100 [00:00<00:00, 117.79it/s]\n",
      "100%|██████████| 100/100 [00:00<00:00, 108.69it/s]\n",
      "100%|██████████| 100/100 [00:00<00:00, 143.42it/s]\n",
      "100%|██████████| 100/100 [00:00<00:00, 139.76it/s]\n",
      "100%|██████████| 100/100 [00:00<00:00, 104.93it/s]\n",
      "100%|██████████| 100/100 [00:00<00:00, 117.00it/s]\n",
      "100%|██████████| 100/100 [00:00<00:00, 125.36it/s]\n",
      "100%|██████████| 100/100 [00:00<00:00, 145.01it/s]\n",
      "100%|██████████| 100/100 [00:00<00:00, 144.73it/s]\n",
      "100%|██████████| 100/100 [00:00<00:00, 115.20it/s]\n",
      "100%|██████████| 100/100 [00:00<00:00, 105.20it/s]\n",
      "100%|██████████| 100/100 [00:00<00:00, 112.32it/s]\n",
      "100%|██████████| 100/100 [00:00<00:00, 122.74it/s]\n",
      "100%|██████████| 100/100 [00:00<00:00, 144.39it/s]\n",
      "100%|██████████| 100/100 [00:00<00:00, 119.31it/s]\n",
      "100%|██████████| 100/100 [00:00<00:00, 138.32it/s]\n",
      "100%|██████████| 100/100 [00:00<00:00, 145.58it/s]\n",
      "100%|██████████| 100/100 [00:00<00:00, 140.28it/s]\n",
      "100%|██████████| 100/100 [00:00<00:00, 118.10it/s]\n",
      "100%|██████████| 100/100 [00:00<00:00, 125.23it/s]\n",
      "100%|██████████| 100/100 [00:00<00:00, 142.88it/s]\n",
      "100%|██████████| 100/100 [00:00<00:00, 144.16it/s]\n",
      "100%|██████████| 100/100 [00:00<00:00, 132.11it/s]\n",
      "100%|██████████| 100/100 [00:00<00:00, 127.02it/s]\n",
      "100%|██████████| 100/100 [00:00<00:00, 131.51it/s]\n",
      "100%|██████████| 100/100 [00:00<00:00, 130.66it/s]\n",
      "100%|██████████| 100/100 [00:00<00:00, 127.27it/s]\n",
      "100%|██████████| 100/100 [00:00<00:00, 141.56it/s]\n",
      "100%|██████████| 100/100 [00:00<00:00, 115.02it/s]\n",
      "100%|██████████| 100/100 [00:00<00:00, 122.53it/s]\n",
      "100%|██████████| 100/100 [00:00<00:00, 128.31it/s]\n",
      "100%|██████████| 100/100 [00:00<00:00, 138.11it/s]\n",
      "100%|██████████| 100/100 [00:00<00:00, 141.80it/s]\n",
      "100%|██████████| 100/100 [00:00<00:00, 114.12it/s]\n",
      "100%|██████████| 100/100 [00:00<00:00, 120.52it/s]\n",
      "100%|██████████| 100/100 [00:00<00:00, 123.00it/s]\n",
      "100%|██████████| 100/100 [00:00<00:00, 136.44it/s]\n",
      "100%|██████████| 100/100 [00:00<00:00, 117.48it/s]\n",
      "100%|██████████| 100/100 [00:00<00:00, 125.40it/s]\n",
      "100%|██████████| 100/100 [00:00<00:00, 117.13it/s]\n",
      "100%|██████████| 100/100 [00:00<00:00, 120.17it/s]\n",
      "100%|██████████| 100/100 [00:00<00:00, 123.76it/s]\n",
      "100%|██████████| 100/100 [00:00<00:00, 139.80it/s]\n",
      "100%|██████████| 100/100 [00:00<00:00, 125.23it/s]\n",
      "100%|██████████| 100/100 [00:00<00:00, 109.38it/s]\n",
      "100%|██████████| 100/100 [00:00<00:00, 140.76it/s]\n",
      "100%|██████████| 100/100 [00:00<00:00, 140.37it/s]\n",
      "100%|██████████| 100/100 [00:00<00:00, 138.03it/s]\n",
      "100%|██████████| 100/100 [00:00<00:00, 134.86it/s]\n",
      "100%|██████████| 100/100 [00:00<00:00, 136.53it/s]\n",
      "100%|██████████| 100/100 [00:00<00:00, 136.54it/s]\n",
      "100%|██████████| 100/100 [00:00<00:00, 138.42it/s]\n",
      "100%|██████████| 100/100 [00:00<00:00, 137.54it/s]\n",
      "100%|██████████| 100/100 [00:00<00:00, 143.65it/s]\n",
      "100%|██████████| 100/100 [00:00<00:00, 130.05it/s]\n",
      "100%|██████████| 100/100 [00:00<00:00, 117.88it/s]\n",
      "100%|██████████| 100/100 [00:00<00:00, 144.82it/s]\n",
      "100%|██████████| 100/100 [00:00<00:00, 137.01it/s]\n",
      "100%|██████████| 100/100 [00:00<00:00, 130.93it/s]\n",
      "100%|██████████| 100/100 [00:00<00:00, 122.55it/s]\n",
      "100%|██████████| 100/100 [00:00<00:00, 137.64it/s]\n",
      "100%|██████████| 100/100 [00:00<00:00, 121.65it/s]\n",
      "100%|██████████| 100/100 [00:00<00:00, 124.31it/s]\n",
      "100%|██████████| 100/100 [00:00<00:00, 135.52it/s]\n",
      "100%|██████████| 100/100 [00:00<00:00, 139.48it/s]\n",
      "100%|██████████| 100/100 [00:00<00:00, 139.68it/s]\n",
      "100%|██████████| 100/100 [00:00<00:00, 141.49it/s]\n",
      "100%|██████████| 100/100 [00:00<00:00, 141.90it/s]\n",
      "100%|██████████| 100/100 [00:00<00:00, 141.11it/s]\n",
      "100%|██████████| 100/100 [00:00<00:00, 118.73it/s]\n",
      "100%|██████████| 100/100 [00:00<00:00, 144.82it/s]\n",
      "100%|██████████| 100/100 [00:00<00:00, 145.22it/s]\n",
      "100%|██████████| 100/100 [00:00<00:00, 127.88it/s]\n",
      "100%|██████████| 100/100 [00:00<00:00, 130.25it/s]\n",
      "100%|██████████| 100/100 [00:00<00:00, 115.89it/s]\n",
      "100%|██████████| 100/100 [00:00<00:00, 118.17it/s]\n",
      "100%|██████████| 100/100 [00:00<00:00, 114.33it/s]\n",
      "100%|██████████| 100/100 [00:00<00:00, 128.58it/s]\n",
      "100%|██████████| 100/100 [00:00<00:00, 114.95it/s]\n",
      "100%|██████████| 100/100 [00:00<00:00, 124.23it/s]\n",
      "100%|██████████| 100/100 [00:00<00:00, 100.50it/s]\n",
      "100%|██████████| 100/100 [00:00<00:00, 125.87it/s]\n",
      "100%|██████████| 100/100 [00:00<00:00, 134.00it/s]\n",
      "100%|██████████| 100/100 [00:00<00:00, 133.44it/s]\n",
      "100%|██████████| 100/100 [00:00<00:00, 133.00it/s]\n",
      "100%|██████████| 100/100 [00:00<00:00, 129.56it/s]\n",
      "100%|██████████| 100/100 [00:00<00:00, 134.35it/s]\n",
      "100%|██████████| 100/100 [00:00<00:00, 133.11it/s]\n",
      "100%|██████████| 100/100 [00:00<00:00, 135.03it/s]\n"
     ]
    }
   ],
   "metadata": {}
  },
  {
   "cell_type": "code",
   "execution_count": 82,
   "source": [
    "probabilities_softmax = tf.keras.activations.softmax(tf.convert_to_tensor(probabilities))\n",
    "photon_numbers = np.array(photon_numbers)\n",
    "mean = np.mean(probabilities_softmax, axis=0)\n",
    "std = np.std(probabilities_softmax, axis=0)"
   ],
   "outputs": [],
   "metadata": {}
  },
  {
   "cell_type": "code",
   "execution_count": 83,
   "source": [
    "fig, ax1 = plt.subplots(1, 1, figsize=(fig_width, fig_height))\n",
    "\n",
    "xlist = photon_numbers[0].ravel()\n",
    "for i in range(7):\n",
    "    ax1.plot(xlist, mean[:, i], \"-o\", alpha = 1, markersize=1,\n",
    "             label=\"{}\".format(reverse_mapping_correct[i]))\n",
    "    ax1.fill_between(xlist, mean[:, i] - std[:, i],\n",
    "                    mean[:, i] + std[:, i], alpha=0.1)\n",
    "\n",
    "ax1.legend(loc=\"lower left\", ncol=2, handlelength=.6)\n",
    "# ax1.grid(alpha=0.3)\n",
    "\n",
    "ax1.set_xlabel(r\"Photon loss ($\\delta n$/$n_0$)\",)\n",
    "ax1.set_ylabel(r\"Probability\", labelpad=-4,)\n",
    "\n",
    "\n",
    "ax1.set_ylim(-0.001, 1.1)\n",
    "ax1.set_xlim(-0.001, 1.01)\n",
    "ax1.set_yticks([0, 0.25, 0.5, 0.75, 1.])\n",
    "\n",
    "ax1.set_yticklabels([0, \"\", \"\", \"\", 1])\n",
    "ax1.set_xticks([0, 0.2, 0.4, 0.6, 0.8, 1])\n",
    "ax1.set_xticklabels([0, 0.2, 0.4, 0.6, 0.8, 1])\n",
    "\n",
    "ax1.set_aspect(0.55)\n",
    "# ax1.set_title(r\"(a)\", loc=\"left\")\n",
    "ax1.set_title(\"(a)                                                           \")\n",
    "# ax1.text(0.02, .83, \"(a)\")\n",
    "\n",
    "plt.show()"
   ],
   "outputs": [
    {
     "output_type": "display_data",
     "data": {
      "image/png": "[encoded data removed]",
      "text/plain": [
       "<Figure size 245.081x151.468 with 1 Axes>"
      ]
     },
     "metadata": {
      "needs_background": "light"
     }
    }
   ],
   "metadata": {}
  }
 ],
 "metadata": {
  "kernelspec": {
   "name": "python3",
   "display_name": "Python 3.9.7 64-bit ('qst-nn': conda)"
  },
  "language_info": {
   "codemirror_mode": {
    "name": "ipython",
    "version": 3
   },
   "file_extension": ".py",
   "mimetype": "text/x-python",
   "name": "python",
   "nbconvert_exporter": "python",
   "pygments_lexer": "ipython3",
   "version": "3.9.7"
  },
  "interpreter": {
   "hash": "304bacea9b9b16641736e2a98e90217724481d8203afc1cc755d453ee62a01d9"
  }
 },
 "nbformat": 4,
 "nbformat_minor": 4
}