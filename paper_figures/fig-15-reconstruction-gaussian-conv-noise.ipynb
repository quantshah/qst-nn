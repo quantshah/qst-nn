{
 "cells": [
  {
   "cell_type": "markdown",
   "source": [
    "# QST CGAN with thermal noise in the channel (convolution)"
   ],
   "metadata": {}
  },
  {
   "cell_type": "code",
   "execution_count": 1,
   "source": [
    "import numpy as np\n",
    "\n",
    "from qutip import Qobj, fidelity\n",
    "from qutip.wigner import qfunc\n",
    "from qutip.states import thermal_dm\n",
    "from qutip import coherent_dm\n",
    "from qutip.visualization import plot_wigner_fock_distribution\n",
    "\n",
    "\n",
    "\n",
    "import tensorflow_addons as tfa\n",
    "import tensorflow as tf\n",
    "\n",
    "\n",
    "from qst_nn.ops import (cat, binomial, num, gkp, GaussianConv, husimi_ops, convert_to_real_ops, dm_to_tf, batched_expect)\n",
    "from qst_cgan.gan import DensityMatrix, Expectation, Discriminator, generator_loss, discriminator_loss\n",
    "from qst_cgan.ops import convert_to_complex_ops, tf_fidelity\n",
    "\n",
    "\n",
    "from tqdm.auto import tqdm\n",
    "\n",
    "from dataclasses import dataclass\n",
    "\n",
    "\n",
    "import matplotlib.pyplot as plt\n",
    "tf.keras.backend.set_floatx('float64') # Set float64 as the default"
   ],
   "outputs": [],
   "metadata": {}
  },
  {
   "cell_type": "code",
   "execution_count": 2,
   "source": [
    "# https://scipy-cookbook.readthedocs.io/items/Matplotlib_LaTeX_Examples.html\n",
    "fig_width_pt = 246.0  # Get this from LaTeX using \\showthe\\columnwidth\n",
    "inches_per_pt = 1.0/72.27               # Convert pt to inch\n",
    "golden_mean = (np.sqrt(5)-1.0)/2.0         # Aesthetic ratio\n",
    "fig_width = fig_width_pt*inches_per_pt  # width in inches\n",
    "fig_height = fig_width*golden_mean      # height in inches\n",
    "fig_size =  [fig_width,fig_height]\n",
    "params = {\n",
    "          'axes.labelsize': 9,\n",
    "          'font.size': 9,\n",
    "          'legend.fontsize': 9,\n",
    "          'xtick.labelsize': 8,\n",
    "          'ytick.labelsize': 8,\n",
    "          'text.usetex': True,\n",
    "          'figure.figsize': fig_size,\n",
    "          'axes.labelpad':1,\n",
    "          'legend.handlelength':0.8,\n",
    "          'axes.titlesize': 9,\n",
    "    \"text.usetex\"        : False\n",
    "          }\n",
    "plt.rcParams.update(params)\n",
    "\n",
    "# mpl.use('pdf')"
   ],
   "outputs": [],
   "metadata": {}
  },
  {
   "cell_type": "markdown",
   "source": [
    "# We create the state and the data using QuTiP"
   ],
   "metadata": {}
  },
  {
   "cell_type": "code",
   "execution_count": 3,
   "source": [
    "hilbert_size = 32\n",
    "\n",
    "# Betas can be selected in a grid or randomly in a circle\n",
    "num_grid = 32\n",
    "num_points = num_grid*num_grid\n",
    "\n",
    "beta_max_x = 5\n",
    "beta_max_y = 5\n",
    "\n",
    "xvec = np.linspace(-beta_max_x, beta_max_x, num_grid)\n",
    "yvec = np.linspace(-beta_max_y, beta_max_y, num_grid)\n",
    "\n",
    "X, Y = np.meshgrid(xvec, yvec)\n",
    "betas = (X + 1j*Y).ravel()"
   ],
   "outputs": [],
   "metadata": {}
  },
  {
   "cell_type": "markdown",
   "source": [
    "# Measurement ops are simple projectors $\\frac{1}{\\pi}|\\beta \\rangle \\langle \\beta|$"
   ],
   "metadata": {}
  },
  {
   "cell_type": "code",
   "execution_count": 4,
   "source": [
    "m_ops = [(1/np.pi)*coherent_dm(hilbert_size, beta) for beta in betas]\n",
    "ops_numpy = [op.data.toarray() for op in m_ops] # convert the QuTiP Qobj to numpy arrays\n",
    "ops_tf = tf.convert_to_tensor([ops_numpy]) # convert the numpy arrays to complex TensorFlow tensors\n",
    "\n",
    "A = convert_to_real_ops(ops_tf) # convert the complex-valued numpy matrices to real-valued TensorFlow tensors\n",
    "print(A.shape, A.dtype)"
   ],
   "outputs": [
    {
     "output_type": "stream",
     "name": "stdout",
     "text": [
      "(1, 32, 32, 2048) <dtype: 'float64'>\n"
     ]
    },
    {
     "output_type": "stream",
     "name": "stderr",
     "text": [
      "2021-10-01 14:22:11.863104: I tensorflow/core/platform/cpu_feature_guard.cc:142] This TensorFlow binary is optimized with oneAPI Deep Neural Network Library (oneDNN) to use the following CPU instructions in performance-critical operations:  AVX2 FMA\n",
      "To enable them in other operations, rebuild TensorFlow with the appropriate compiler flags.\n"
     ]
    }
   ],
   "metadata": {}
  },
  {
   "cell_type": "markdown",
   "source": [
    "# Convolution noise\n",
    "\n",
    "The presence of thermal photons in the amplification channel lead to the data being\n",
    "corrupted as a convolution over the Q function data (see [https://arxiv.org/abs/1206.3405](https://arxiv.org/abs/1206.3405))\n",
    "\n",
    "The kernel for this convolution is a Gaussian determined by the average photon number in the thermal state. We corrupt our data assuming a thermal state with mean photon number 5. "
   ],
   "metadata": {}
  },
  {
   "cell_type": "code",
   "execution_count": 5,
   "source": [
    "# define normalized 2D gaussian\n",
    "def gaus2d(x=0, y=0, n0=1):\n",
    "    return 1. / (np.pi * n0) * np.exp(-((x**2 + y**2.0)/n0))\n",
    "\n",
    "nth = 5\n",
    "X, Y = np.meshgrid(xvec, yvec) # get 2D variables instead of 1D\n",
    "gauss_kernel = gaus2d(X, Y, n0=nth)"
   ],
   "outputs": [],
   "metadata": {}
  },
  {
   "cell_type": "markdown",
   "source": [
    "# State to reconstruct\n",
    "\n",
    "Let us now create a state on which we will run QST"
   ],
   "metadata": {}
  },
  {
   "cell_type": "code",
   "execution_count": 6,
   "source": [
    "rho, _ = cat(hilbert_size, 2, 0, 0)\n",
    "plot_wigner_fock_distribution(rho)\n",
    "plt.show()"
   ],
   "outputs": [
    {
     "output_type": "display_data",
     "data": {
      "image/png": "[encoded data removed]",
      "text/plain": [
       "<Figure size 576x288 with 2 Axes>"
      ]
     },
     "metadata": {
      "needs_background": "light"
     }
    }
   ],
   "metadata": {}
  },
  {
   "cell_type": "code",
   "execution_count": 7,
   "source": [
    "\n",
    "rho_tf = dm_to_tf([rho])\n",
    "data = batched_expect(ops_tf, rho_tf)"
   ],
   "outputs": [],
   "metadata": {}
  },
  {
   "cell_type": "markdown",
   "source": [
    "# Q function plots using QuTiP and a custom TensorFlow expectation function"
   ],
   "metadata": {}
  },
  {
   "cell_type": "code",
   "execution_count": 8,
   "source": [
    "fig, ax = plt.subplots(1, 2, figsize=(7, 3))\n",
    "ax[0].imshow(qfunc(rho, xvec, yvec, g=2))\n",
    "ax[1].imshow(data.numpy().reshape(num_grid, num_grid))\n",
    "ax[0].set_title(\"QuTiP Q func\")\n",
    "ax[1].set_title(\"TensorFlow computed Q func\")\n",
    "plt.show()"
   ],
   "outputs": [
    {
     "output_type": "display_data",
     "data": {
      "image/png": "[encoded data removed]",
      "text/plain": [
       "<Figure size 504x216 with 2 Axes>"
      ]
     },
     "metadata": {
      "needs_background": "light"
     }
    }
   ],
   "metadata": {}
  },
  {
   "cell_type": "code",
   "execution_count": 9,
   "source": [
    "# The thermal state distribution\n",
    "plot_wigner_fock_distribution(thermal_dm(hilbert_size, nth))"
   ],
   "outputs": [
    {
     "output_type": "execute_result",
     "data": {
      "text/plain": [
       "(<Figure size 576x288 with 2 Axes>,\n",
       " array([<AxesSubplot:xlabel='Fock number', ylabel='Occupation probability'>,\n",
       "        <AxesSubplot:title={'center':'Wigner function'}, xlabel='$\\\\rm{Re}(\\\\alpha)$', ylabel='$\\\\rm{Im}(\\\\alpha)$'>],\n",
       "       dtype=object))"
      ]
     },
     "metadata": {},
     "execution_count": 9
    },
    {
     "output_type": "display_data",
     "data": {
      "image/png": "[encoded data removed]",
      "text/plain": [
       "<Figure size 576x288 with 2 Axes>"
      ]
     },
     "metadata": {
      "needs_background": "light"
     }
    }
   ],
   "metadata": {}
  },
  {
   "cell_type": "markdown",
   "source": [
    "# Apply the convolution and show the simulated data that we can obtain experimentally"
   ],
   "metadata": {}
  },
  {
   "cell_type": "code",
   "execution_count": 56,
   "source": [
    "x = tf.reshape(tf.cast(data, tf.float64), (1, num_grid, num_grid, 1))\n",
    "\n",
    "conved = GaussianConv(gauss_kernel)(x)\n",
    "\n",
    "kernel = gauss_kernel/tf.reduce_max(gauss_kernel)\n",
    "diff = conved.numpy().reshape(num_grid, num_grid)/tf.reduce_max(conved) - kernel.numpy().reshape(num_grid, num_grid)\n",
    "diff = tf.convert_to_tensor(diff)\n",
    "\n",
    "\n",
    "# Collect all the data in an array for plotting\n",
    "matrices = [gauss_kernel.reshape((num_grid, num_grid)), x.numpy().reshape((num_grid, num_grid)), \n",
    "            conved.numpy().reshape((num_grid, num_grid)), diff.numpy().reshape((num_grid, num_grid))]"
   ],
   "outputs": [],
   "metadata": {}
  },
  {
   "cell_type": "code",
   "execution_count": 57,
   "source": [
    "fig, ax = plt.subplots(1, 4, figsize=(fig_width, 0.35*2.5*fig_height), dpi=80, facecolor=\"white\",\n",
    "                             sharey=False, sharex=True)\n",
    "\n",
    "axes = [ax[0], ax[1], ax[2], ax[3]]\n",
    "\n",
    "aspect = 'equal'\n",
    "\n",
    "for i in range(4):\n",
    "    im = axes[i].pcolor(xvec, yvec,\n",
    "                   matrices[i]/np.max(matrices[i]), cmap=\"hot\", vmin=0, vmax=1)\n",
    "    axes[i].set_aspect(\"equal\")\n",
    "    axes[i].set_xticklabels([\"\", \"\", \"\"])\n",
    "    axes[i].set_yticklabels([\"\", \"\", \"\"], fontsize=6)\n",
    "    # axes[i].set_xlabel(r\"$Re(\\beta)$\", fontsize=6)    \n",
    "axes[0].set_yticklabels([\"-5\", \"\", \"5\"], fontsize=6)\n",
    "\n",
    "labels = [\"Background\\n(Gaussian)\", \"State\", \"Data\\n(Convolution)\", \"Subtracted\"]\n",
    "\n",
    "for i in range(len(labels)):\n",
    "    axes[i].set_title(labels[i], fontsize=6)\n",
    "\n",
    "# plt.subplots_adjust(wspace=-.4)\n",
    "# cbar = fig.colorbar(im, ax=axes, pad=0.026, fraction = 0.046)\n",
    "# cbar.ax.set_yticklabels([\"0\", \"0.5\", \"1\"])\n",
    "\n",
    "axes[0].set_ylabel(r\"Im$(\\beta)$\", labelpad=-8, fontsize=6)\n",
    "\n",
    "######################################################################################################"
   ],
   "outputs": [
    {
     "output_type": "stream",
     "name": "stderr",
     "text": [
      "/var/folders/8s/tfpsk_fx609f8w7z__yzz9vh0000gn/T/ipykernel_65933/3526584348.py:9: MatplotlibDeprecationWarning: shading='flat' when X and Y have the same dimensions as C is deprecated since 3.3.  Either specify the corners of the quadrilaterals with X and Y, or pass shading='auto', 'nearest' or 'gouraud', or set rcParams['pcolor.shading'].  This will become an error two minor releases later.\n",
      "  im = axes[i].pcolor(xvec, yvec,\n",
      "/var/folders/8s/tfpsk_fx609f8w7z__yzz9vh0000gn/T/ipykernel_65933/3526584348.py:12: UserWarning: FixedFormatter should only be used together with FixedLocator\n",
      "  axes[i].set_xticklabels([\"\", \"\", \"\"])\n",
      "/var/folders/8s/tfpsk_fx609f8w7z__yzz9vh0000gn/T/ipykernel_65933/3526584348.py:13: UserWarning: FixedFormatter should only be used together with FixedLocator\n",
      "  axes[i].set_yticklabels([\"\", \"\", \"\"], fontsize=6)\n",
      "/var/folders/8s/tfpsk_fx609f8w7z__yzz9vh0000gn/T/ipykernel_65933/3526584348.py:15: UserWarning: FixedFormatter should only be used together with FixedLocator\n",
      "  axes[0].set_yticklabels([\"-5\", \"\", \"5\"], fontsize=6)\n"
     ]
    },
    {
     "output_type": "execute_result",
     "data": {
      "text/plain": [
       "Text(0, 0.5, 'Im$(\\\\beta)$')"
      ]
     },
     "metadata": {},
     "execution_count": 57
    },
    {
     "output_type": "display_data",
     "data": {
      "image/png": "[encoded data removed]",
      "text/plain": [
       "<Figure size 272.312x147.261 with 4 Axes>"
      ]
     },
     "metadata": {}
    }
   ],
   "metadata": {}
  },
  {
   "cell_type": "markdown",
   "source": [
    "# QST CGAN with a Gaussian convolution layer"
   ],
   "metadata": {}
  },
  {
   "cell_type": "code",
   "execution_count": 58,
   "source": [
    "def GeneratorConvQST(hilbert_size, num_points, noise=0.02, kernel=None):\n",
    "    \"\"\"\n",
    "    A tensorflow generative model which can be called as \n",
    "                  >> generator([A, x])\n",
    "    where A is the set of all measurement operators\n",
    "    transformed into the shape (batch_size, hilbert_size, hilbert_size, num_points*2)\n",
    "    This can be done using the function `convert_to_real_ops` which\n",
    "    takes a set of complex operators shaped as (batch_size, num_points, hilbert_size, hilbert_size)\n",
    "    and converts it to this format which is easier to run convolution operations on.\n",
    "\n",
    "    x is the measurement statistics (frequencies) represented by a vector of shape\n",
    "    [batch_size, num_points] where we consider num_points different operators and their\n",
    "    expectation values.\n",
    "\n",
    "    Args:\n",
    "        hilbert_size (int): Hilbert size of the output matrix\n",
    "                            This needs to be 32 now. We can adjust \n",
    "                            the network architecture to allow it to\n",
    "                            automatically change its outputs according\n",
    "                            to the hilbert size in future\n",
    "        num_points (int): Number of different measurement operators\n",
    "    \n",
    "    Returns:\n",
    "        generator: A TensorFlow model callable as\n",
    "        >> generator([A, x])\n",
    "    \n",
    "    \"\"\"\n",
    "    initializer = tf.random_normal_initializer(0., 0.02)\n",
    "    \n",
    "    n = int(hilbert_size/2)\n",
    "    \n",
    "    ops = tf.keras.layers.Input(shape=[hilbert_size, hilbert_size, num_points*2],\n",
    "                                name='operators')\n",
    "    inputs = tf.keras.Input(shape=(num_points), name = \"inputs\")\n",
    "    \n",
    "\n",
    "    x = tf.keras.layers.Dense(16*16*2, use_bias=False,\n",
    "                              kernel_initializer = tf.random_normal_initializer(0., 0.02),\n",
    "                             )(inputs)\n",
    "    x = tf.keras.layers.LeakyReLU()(x)\n",
    "    x = tf.keras.layers.Reshape((16, 16, 2))(x)\n",
    "\n",
    "    x = tf.keras.layers.Conv2DTranspose(64, 4, use_bias=False,\n",
    "                                        strides=2,\n",
    "                                        padding='same',\n",
    "                                        kernel_initializer=initializer)(x)\n",
    "    x = tfa.layers.InstanceNormalization(axis=3)(x)\n",
    "    x = tf.keras.layers.LeakyReLU()(x)\n",
    "    x = tf.keras.layers.Conv2DTranspose(64, 4, use_bias=False,\n",
    "                                        strides=1,\n",
    "                                        padding='same',\n",
    "                                        kernel_initializer=initializer)(x)\n",
    "    x = tfa.layers.InstanceNormalization(axis=3)(x)\n",
    "    x = tf.keras.layers.LeakyReLU()(x)\n",
    "    x = tf.keras.layers.Conv2DTranspose(32, 4, use_bias=False,\n",
    "                                        strides=1,\n",
    "                                        padding='same',\n",
    "                                        kernel_initializer=initializer)(x)\n",
    "    # x = tfa.layers.InstanceNormalization(axis=3)(x)\n",
    "    # x = tf.keras.layers.LeakyReLU()(x)\n",
    "    # y = tf.keras.layers.Conv2D(8, 5, padding='same')(ops)\n",
    "    # out = x\n",
    "    # x = tf.keras.layers.concatenate([x, y])\n",
    "    x = tf.keras.layers.Conv2DTranspose(2, 4, use_bias=False,\n",
    "                                    strides=1,\n",
    "                                    padding='same',\n",
    "                                    kernel_initializer=initializer)(x)\n",
    "    x = DensityMatrix()(x)\n",
    "    complex_ops = convert_to_complex_ops(ops)\n",
    "    # prefactor = (0.25*g**2/np.pi)\n",
    "    prefactor = 1.\n",
    "    x = Expectation()(complex_ops, x, prefactor)\n",
    "    \n",
    "    x = tf.keras.layers.Reshape((32, 32, 1))(x)\n",
    "\n",
    "    x = GaussianConv(kernel, trainable=False)(x)\n",
    "    # x = x/tf.reduce_max(x)\n",
    "\n",
    "    x = tf.keras.layers.Reshape((num_points,))(x)\n",
    "    \n",
    "    # y = kernel/tf.reduce_max(kernel)\n",
    "    # y = tf.reshape(y, (1, num_points))\n",
    "    # x = x - y\n",
    "\n",
    "    return tf.keras.Model(inputs=[ops, inputs], outputs=x)"
   ],
   "outputs": [],
   "metadata": {}
  },
  {
   "cell_type": "code",
   "execution_count": 59,
   "source": [
    "tf.keras.backend.clear_session()\n",
    "generator = GeneratorConvQST(hilbert_size, num_points, kernel=gauss_kernel)\n",
    "discriminator = Discriminator(hilbert_size, num_points)\n"
   ],
   "outputs": [],
   "metadata": {}
  },
  {
   "cell_type": "code",
   "execution_count": 60,
   "source": [
    "density_layer_idx = None\n",
    "\n",
    "for i, layer in enumerate(generator.layers):\n",
    "    if \"density_matrix\" in layer._name:\n",
    "        density_layer_idx = i\n",
    "        break\n",
    "\n",
    "print(density_layer_idx)\n",
    "model_dm = tf.keras.Model(inputs=generator.input, outputs=generator.layers[density_layer_idx].output)\n",
    "\n",
    "@dataclass\n",
    "class LossHistory:\n",
    "    \"\"\"Class for keeping track of loss\"\"\"\n",
    "    generator: list\n",
    "    discriminator: list\n",
    "    l1: list\n",
    "\n",
    "loss = LossHistory([], [], [])\n",
    "fidelities = []\n",
    "\n",
    "\n",
    "initial_learning_rate = 0.0002\n",
    "\n",
    "lr_schedule = tf.keras.optimizers.schedules.InverseTimeDecay(initial_learning_rate,\n",
    "                                                             decay_steps=10000,\n",
    "                                                             decay_rate=.96,\n",
    "                                                             staircase=False)\n",
    "\n",
    "lam = 10.\n",
    "\n",
    "generator_optimizer = tf.keras.optimizers.Adam(lr_schedule, 0.5, 0.5)\n",
    "discriminator_optimizer = tf.keras.optimizers.Adam(lr_schedule, 0.5, 0.5)"
   ],
   "outputs": [
    {
     "output_type": "stream",
     "name": "stdout",
     "text": [
      "17\n"
     ]
    }
   ],
   "metadata": {}
  },
  {
   "cell_type": "code",
   "execution_count": 61,
   "source": [
    "def train_step(A, x):\n",
    "    \"\"\"Takes one step of training for the full A matrix representing the\n",
    "    measurement operators and data x.\n",
    "\n",
    "    Note that the `generator`, `discriminator`, `generator_optimizer` and the\n",
    "    `discriminator_optimizer` has to be defined before calling this function.\n",
    "\n",
    "    Args:\n",
    "        A (tf.Tensor): A tensor of shape (m, hilbert_size, hilbert_size, n x 2)\n",
    "                       where m=1 for a single reconstruction, and n represents\n",
    "                       the number of measured operators. We split the complex\n",
    "                       operators as real and imaginary in the last axis. The \n",
    "                       helper function `convert_to_real_ops` can be used to\n",
    "                       generate the matrix A with a set of complex operators\n",
    "                       given by `ops` with shape (1, n, hilbert_size, hilbert_size)\n",
    "                       by calling `A = convert_to_real_ops(ops)`.\n",
    "\n",
    "        x (tf.Tensor): A tensor of shape (m, n) with m=1 for a single\n",
    "                       reconstruction and `n` representing the number of\n",
    "                       measurements. \n",
    "    \"\"\"\n",
    "    with tf.GradientTape() as gen_tape, tf.GradientTape() as disc_tape:\n",
    "        gen_output = generator([A, x], training=True)\n",
    "\n",
    "        disc_real_output = discriminator([A, x, x], training=True)\n",
    "        disc_generated_output = discriminator([A, x, gen_output], training=True)\n",
    "\n",
    "        gen_total_loss, gen_gan_loss, gen_l1_loss = generator_loss(\n",
    "            disc_generated_output, gen_output, x, lam=lam\n",
    "        )\n",
    "        disc_loss = discriminator_loss(disc_real_output, disc_generated_output)\n",
    "\n",
    "    generator_gradients = gen_tape.gradient(\n",
    "        gen_total_loss, generator.trainable_variables\n",
    "    )\n",
    "    discriminator_gradients = disc_tape.gradient(\n",
    "        disc_loss, discriminator.trainable_variables\n",
    "    )\n",
    "\n",
    "    generator_optimizer.apply_gradients(\n",
    "        zip(generator_gradients, generator.trainable_variables)\n",
    "    )\n",
    "    discriminator_optimizer.apply_gradients(\n",
    "        zip(discriminator_gradients, discriminator.trainable_variables)\n",
    "    )\n",
    "\n",
    "    loss.generator.append(gen_gan_loss)\n",
    "    loss.l1.append(gen_l1_loss)\n",
    "    loss.discriminator.append(disc_loss)\n",
    "\n",
    "max_iterations = 300\n",
    "pbar = tqdm(range(max_iterations))\n",
    "\n",
    "for i in pbar:\n",
    "    train_step(A, conved.numpy().reshape(-1, num_points))\n",
    "    density_matrix = model_dm([A, conved.numpy().reshape(-1, num_points)])\n",
    "    rho_reconstructed = Qobj(density_matrix.numpy().reshape(rho.shape))\n",
    "    f = fidelity(rho_reconstructed, rho)\n",
    "    fidelities.append(f)\n",
    "    pbar.set_description(\"Fidelity {} | Gen loss {} | L1 loss {} | Disc loss {}\".format(f, loss.generator[-1], loss.l1[-1], loss.discriminator[-1]))"
   ],
   "outputs": [
    {
     "output_type": "stream",
     "name": "stderr",
     "text": [
      "Fidelity 0.9198780496380545 | Gen loss 0.6897733807563782 | L1 loss 0.004995967746279077 | Disc loss 1.3856912851333618: 100%|██████████| 300/300 [00:56<00:00,  5.28it/s]\n"
     ]
    }
   ],
   "metadata": {}
  },
  {
   "cell_type": "code",
   "execution_count": 62,
   "source": [
    "rho_reconstructed = Qobj(density_matrix.numpy().reshape(rho.shape))"
   ],
   "outputs": [],
   "metadata": {}
  },
  {
   "cell_type": "code",
   "execution_count": 63,
   "source": [
    "fig, ax = plot_wigner_fock_distribution(rho_reconstructed, alpha_max=beta_max_x, colorbar=True, figsize=(9, 3.5))\n",
    "plt.title(\"Fidelity {:.4}\".format(fidelity(rho_reconstructed, rho)))\n",
    "plt.suptitle(\"QST CGAN reconstruction\")\n",
    "plt.show()"
   ],
   "outputs": [
    {
     "output_type": "display_data",
     "data": {
      "image/png": "[encoded data removed]",
      "text/plain": [
       "<Figure size 648x252 with 3 Axes>"
      ]
     },
     "metadata": {
      "needs_background": "light"
     }
    }
   ],
   "metadata": {}
  },
  {
   "cell_type": "code",
   "execution_count": 64,
   "source": [
    "rho_tf_reconstructed = dm_to_tf([rho_reconstructed])\n",
    "data_reconstructed = batched_expect(ops_tf, rho_tf_reconstructed)\n",
    "reconstructed_x = tf.reshape(tf.cast(data_reconstructed, tf.float64), (1, num_grid, num_grid, 1))\n",
    "reconstructed_conved = GaussianConv(gauss_kernel)(reconstructed_x)\n",
    "diff2 = reconstructed_conved.numpy().reshape(num_grid, num_grid)/tf.reduce_max(reconstructed_conved) - kernel.numpy().reshape(num_grid, num_grid)\n",
    "\n",
    "matrices2 = [gauss_kernel.reshape((num_grid, num_grid)), reconstructed_x.numpy().reshape((num_grid, num_grid)), \n",
    "           reconstructed_conved.numpy().reshape((num_grid, num_grid)), diff2.numpy().reshape((num_grid, num_grid))]\n"
   ],
   "outputs": [],
   "metadata": {}
  },
  {
   "cell_type": "code",
   "execution_count": 65,
   "source": [
    "figpath = \"figures/\"\n",
    "\n",
    "fig, ax = plt.subplots(2, 4, figsize=(fig_width, 0.35*2.5*fig_height), dpi=80, facecolor=\"white\",\n",
    "                             sharey=False, sharex=True)\n",
    "\n",
    "axes = [ax[0, 0], ax[0, 1], ax[0, 2], ax[0, 3]]\n",
    "\n",
    "aspect = 'equal'\n",
    "\n",
    "for i in range(4):\n",
    "    im = axes[i].pcolor(xvec, yvec,\n",
    "                   matrices[i]/np.max(matrices[i]), cmap=\"hot\", vmin=0, vmax=1)\n",
    "    axes[i].set_aspect(\"equal\")\n",
    "    axes[i].set_xticklabels([\"\", \"\", \"\"])\n",
    "    axes[i].set_yticklabels([\"\", \"\", \"\"], fontsize=6)\n",
    "    # axes[i].set_xlabel(r\"$Re(\\beta)$\", fontsize=6)    \n",
    "axes[0].set_yticklabels([\"-5\", \"\", \"5\"], fontsize=6)\n",
    "\n",
    "labels = [\"Background\\n(Gaussian)\", \"State\", \"Data\\n(Convolution)\", \"Subtracted\"]\n",
    "\n",
    "for i in range(len(labels)):\n",
    "    axes[i].set_title(labels[i], fontsize=6)\n",
    "\n",
    "# plt.subplots_adjust(wspace=-.4)\n",
    "# cbar = fig.colorbar(im, ax=axes, pad=0.026, fraction = 0.046)\n",
    "# cbar.ax.set_yticklabels([\"0\", \"0.5\", \"1\"])\n",
    "\n",
    "axes[0].set_ylabel(r\"Im$(\\beta)$\", labelpad=-8, fontsize=6)\n",
    "\n",
    "plt.text(x = -24.5, y=30, s=\"cat state\", fontsize=8)\n",
    "\n",
    "######################################################################################################\n",
    "\n",
    "axes = [ax[1, 0], ax[1, 1], ax[1, 2], ax[1, 3]]\n",
    "\n",
    "for i in range(1, 4):\n",
    "    axes[i].pcolor(xvec, yvec,\n",
    "                   matrices2[i]/np.max(matrices2[i]), cmap=\"hot\", vmin=0, vmax=1)\n",
    "    axes[i].set_aspect(\"equal\")\n",
    "    axes[i].set_xticklabels([\"-5\", \"\", \"5\"], fontsize=6)\n",
    "    axes[i].set_yticklabels([\"\", \"\", \"\"])\n",
    "    axes[i].set_xlabel(r\"Re$(\\beta)$\", fontsize=6, labelpad=-4)    \n",
    "\n",
    "\n",
    "labels = [\"Background\\n(Gaussian)\", \"Reconstructed\\nState\", r\"$Convoluted\\noutput$\"+\"\\noutput\", \"Subtracted\"]\n",
    "\n",
    "# for i in range(1, len(labels)):\n",
    "#     axes[i].set_title(labels[i], fontsize=6)\n",
    "\n",
    "plt.subplots_adjust(hspace=0.7)\n",
    "# cbar = fig.colorbar(im, ax=axes, pad=0.026, fraction = 0.046)\n",
    "# cbar.ax.set_yticklabels([\"0\", \"0.5\", \"1\"])\n",
    "plt.suptitle(\"QST-CGAN reconstruction\", x=.45, y=.52, fontsize=8)\n",
    "\n",
    "axes[1].set_ylabel(r\"$Im(\\beta)$\", labelpad=-8, fontsize=6)\n",
    "axes[1].set_yticklabels([\"-5\", \"\", \"5\"], fontsize=6)\n",
    "axes[1].set_yticklabels([\"-5\", \"\", \"5\"])\n",
    "axes[0].set_visible(False)\n",
    "\n",
    "cbar = plt.colorbar(im, ax=ax.ravel().tolist(), aspect=40, ticks=[0, 0.5, 1], pad=0.02)\n",
    "cbar.set_ticklabels([\"0\", \"0.5\", \"1\"])\n",
    "cbar.ax.tick_params(labelsize=6) \n",
    "# plt.text(x = -44.5, y=30, s=\"(a)\", fontsize=8)\n",
    "# plt.savefig(figpath+\"fig-15a-fock-reconstruction.pdf\", bbox_inches=\"tight\", pad_inches=0)"
   ],
   "outputs": [
    {
     "output_type": "stream",
     "name": "stderr",
     "text": [
      "/var/folders/8s/tfpsk_fx609f8w7z__yzz9vh0000gn/T/ipykernel_65933/1574640556.py:11: MatplotlibDeprecationWarning: shading='flat' when X and Y have the same dimensions as C is deprecated since 3.3.  Either specify the corners of the quadrilaterals with X and Y, or pass shading='auto', 'nearest' or 'gouraud', or set rcParams['pcolor.shading'].  This will become an error two minor releases later.\n",
      "  im = axes[i].pcolor(xvec, yvec,\n",
      "/var/folders/8s/tfpsk_fx609f8w7z__yzz9vh0000gn/T/ipykernel_65933/1574640556.py:14: UserWarning: FixedFormatter should only be used together with FixedLocator\n",
      "  axes[i].set_xticklabels([\"\", \"\", \"\"])\n",
      "/var/folders/8s/tfpsk_fx609f8w7z__yzz9vh0000gn/T/ipykernel_65933/1574640556.py:15: UserWarning: FixedFormatter should only be used together with FixedLocator\n",
      "  axes[i].set_yticklabels([\"\", \"\", \"\"], fontsize=6)\n",
      "/var/folders/8s/tfpsk_fx609f8w7z__yzz9vh0000gn/T/ipykernel_65933/1574640556.py:17: UserWarning: FixedFormatter should only be used together with FixedLocator\n",
      "  axes[0].set_yticklabels([\"-5\", \"\", \"5\"], fontsize=6)\n",
      "/var/folders/8s/tfpsk_fx609f8w7z__yzz9vh0000gn/T/ipykernel_65933/1574640556.py:37: MatplotlibDeprecationWarning: shading='flat' when X and Y have the same dimensions as C is deprecated since 3.3.  Either specify the corners of the quadrilaterals with X and Y, or pass shading='auto', 'nearest' or 'gouraud', or set rcParams['pcolor.shading'].  This will become an error two minor releases later.\n",
      "  axes[i].pcolor(xvec, yvec,\n",
      "/var/folders/8s/tfpsk_fx609f8w7z__yzz9vh0000gn/T/ipykernel_65933/1574640556.py:40: UserWarning: FixedFormatter should only be used together with FixedLocator\n",
      "  axes[i].set_xticklabels([\"-5\", \"\", \"5\"], fontsize=6)\n",
      "/var/folders/8s/tfpsk_fx609f8w7z__yzz9vh0000gn/T/ipykernel_65933/1574640556.py:41: UserWarning: FixedFormatter should only be used together with FixedLocator\n",
      "  axes[i].set_yticklabels([\"\", \"\", \"\"])\n",
      "/var/folders/8s/tfpsk_fx609f8w7z__yzz9vh0000gn/T/ipykernel_65933/1574640556.py:56: UserWarning: FixedFormatter should only be used together with FixedLocator\n",
      "  axes[1].set_yticklabels([\"-5\", \"\", \"5\"], fontsize=6)\n",
      "/var/folders/8s/tfpsk_fx609f8w7z__yzz9vh0000gn/T/ipykernel_65933/1574640556.py:57: UserWarning: FixedFormatter should only be used together with FixedLocator\n",
      "  axes[1].set_yticklabels([\"-5\", \"\", \"5\"])\n"
     ]
    },
    {
     "output_type": "display_data",
     "data": {
      "image/png": "[encoded data removed]",
      "text/plain": [
       "<Figure size 272.312x147.261 with 9 Axes>"
      ]
     },
     "metadata": {}
    }
   ],
   "metadata": {}
  },
  {
   "cell_type": "code",
   "execution_count": null,
   "source": [],
   "outputs": [],
   "metadata": {}
  }
 ],
 "metadata": {
  "kernelspec": {
   "name": "python3",
   "display_name": "Python 3.9.7 64-bit ('qst-nn': conda)"
  },
  "language_info": {
   "codemirror_mode": {
    "name": "ipython",
    "version": 3
   },
   "file_extension": ".py",
   "mimetype": "text/x-python",
   "name": "python",
   "nbconvert_exporter": "python",
   "pygments_lexer": "ipython3",
   "version": "3.9.7"
  },
  "interpreter": {
   "hash": "304bacea9b9b16641736e2a98e90217724481d8203afc1cc755d453ee62a01d9"
  }
 },
 "nbformat": 4,
 "nbformat_minor": 2
}